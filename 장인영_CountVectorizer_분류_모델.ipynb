{
  "cells": [
    {
      "cell_type": "markdown",
      "metadata": {
        "id": "view-in-github",
        "colab_type": "text"
      },
      "source": [
        "<a href=\"https://colab.research.google.com/github/oJangInYoung/kosta-2470/blob/main/%EC%9E%A5%EC%9D%B8%EC%98%81_CountVectorizer_%EB%B6%84%EB%A5%98_%EB%AA%A8%EB%8D%B8.ipynb\" target=\"_parent\"><img src=\"https://colab.research.google.com/assets/colab-badge.svg\" alt=\"Open In Colab\"/></a>"
      ]
    },
    {
      "cell_type": "code",
      "source": [
        "import numpy as np\n",
        "import pandas as pd\n",
        "import cv2"
      ],
      "metadata": {
        "id": "E8VGWehvLLCW"
      },
      "id": "E8VGWehvLLCW",
      "execution_count": 3,
      "outputs": []
    },
    {
      "cell_type": "code",
      "source": [
        "from google.colab import drive\n",
        "drive.mount('/content/drive/')"
      ],
      "metadata": {
        "id": "Zokq7h7RLgfG",
        "colab": {
          "base_uri": "https://localhost:8080/"
        },
        "outputId": "9750bccd-a77d-4c95-879d-2131078f1f0a"
      },
      "id": "Zokq7h7RLgfG",
      "execution_count": 4,
      "outputs": [
        {
          "output_type": "stream",
          "name": "stdout",
          "text": [
            "Mounted at /content/drive/\n"
          ]
        }
      ]
    },
    {
      "cell_type": "code",
      "source": [
        "cd /content/drive/Shareddrives/2022_dlstudy/dacon/2022_sight/"
      ],
      "metadata": {
        "colab": {
          "base_uri": "https://localhost:8080/"
        },
        "id": "526rdxs_ejSG",
        "outputId": "8df6fe53-b00a-4c9c-ad34-707498830861"
      },
      "id": "526rdxs_ejSG",
      "execution_count": 5,
      "outputs": [
        {
          "output_type": "stream",
          "name": "stdout",
          "text": [
            "/content/drive/Shareddrives/2022_dlstudy/dacon/2022_sight\n"
          ]
        }
      ]
    },
    {
      "cell_type": "code",
      "source": [
        "df = pd.read_csv(\"train_v2.csv\")"
      ],
      "metadata": {
        "id": "Pqiovgu9lEfk"
      },
      "id": "Pqiovgu9lEfk",
      "execution_count": 6,
      "outputs": []
    },
    {
      "cell_type": "code",
      "source": [
        "df"
      ],
      "metadata": {
        "colab": {
          "base_uri": "https://localhost:8080/",
          "height": 424
        },
        "id": "s56gUaT7pIc_",
        "outputId": "349a7fb5-8479-4ea5-c2e9-85085e0f9735"
      },
      "id": "s56gUaT7pIc_",
      "execution_count": 7,
      "outputs": [
        {
          "output_type": "execute_result",
          "data": {
            "text/plain": [
              "                id                       img_path  \\\n",
              "0      TRAIN_00000  ./image/train/TRAIN_00000.jpg   \n",
              "1      TRAIN_00001  ./image/train/TRAIN_00001.jpg   \n",
              "2      TRAIN_00002  ./image/train/TRAIN_00002.jpg   \n",
              "3      TRAIN_00003  ./image/train/TRAIN_00003.jpg   \n",
              "4      TRAIN_00004  ./image/train/TRAIN_00004.jpg   \n",
              "...            ...                            ...   \n",
              "16981  TRAIN_16981  ./image/train/TRAIN_16981.jpg   \n",
              "16982  TRAIN_16982  ./image/train/TRAIN_16982.jpg   \n",
              "16983  TRAIN_16983  ./image/train/TRAIN_16983.jpg   \n",
              "16984  TRAIN_16984  ./image/train/TRAIN_16984.jpg   \n",
              "16985  TRAIN_16985  ./image/train/TRAIN_16985.jpg   \n",
              "\n",
              "                                                overview          cat1  \\\n",
              "0      ['소안항', '조용한', '인근해안', '청정해역', '양식', '소득', '바다...            자연   \n",
              "1      ['경기', '이천시', '모가면', '골프장', '대중제', '홀', '회원제',...           레포츠   \n",
              "2      ['금오산성숯불갈비', '한우고기만', '전문적', '취급', '사용', '부식',...            음식   \n",
              "3      ['철판', '위', '요리', '안동찜닭', '수', '곳', '경상북', '안동...            음식   \n",
              "4      ['영업시간', '대', '아귀만', '전문', '취급', '전통', '역사', '...            음식   \n",
              "...                                                  ...           ...   \n",
              "16981   ['해발', '자리한', '식담겸', '카페점문점이다곤드레밥', '감자전', '판매']            음식   \n",
              "16982  ['설악힐호텔', '동해고속도로', '속초톨게이트', '관광', '변', '속', ...            숙박   \n",
              "16983  ['충남', '서산시', '중심가', '위치한', '줌모텔', '프라이버스', '보...            숙박   \n",
              "16984  ['토토큰바위캠핑장', '경기', '가평지역', '내', '청정지역', '지역', ...           레포츠   \n",
              "16985  ['포천', '진산', '왕방산', '천년', '역사', '간직', '왕산사', '...  인문(문화/예술/역사)   \n",
              "\n",
              "         cat2       cat3  \n",
              "0       자연관광지      항구/포구  \n",
              "1      육상 레포츠         골프  \n",
              "2         음식점         한식  \n",
              "3         음식점         한식  \n",
              "4         음식점         한식  \n",
              "...       ...        ...  \n",
              "16981     음식점         한식  \n",
              "16982    숙박시설         모텔  \n",
              "16983    숙박시설         모텔  \n",
              "16984  육상 레포츠  야영장,오토캠핑장  \n",
              "16985   역사관광지         사찰  \n",
              "\n",
              "[16986 rows x 6 columns]"
            ],
            "text/html": [
              "\n",
              "  <div id=\"df-583c1cbd-7ff7-4ad4-b102-6514964102ba\">\n",
              "    <div class=\"colab-df-container\">\n",
              "      <div>\n",
              "<style scoped>\n",
              "    .dataframe tbody tr th:only-of-type {\n",
              "        vertical-align: middle;\n",
              "    }\n",
              "\n",
              "    .dataframe tbody tr th {\n",
              "        vertical-align: top;\n",
              "    }\n",
              "\n",
              "    .dataframe thead th {\n",
              "        text-align: right;\n",
              "    }\n",
              "</style>\n",
              "<table border=\"1\" class=\"dataframe\">\n",
              "  <thead>\n",
              "    <tr style=\"text-align: right;\">\n",
              "      <th></th>\n",
              "      <th>id</th>\n",
              "      <th>img_path</th>\n",
              "      <th>overview</th>\n",
              "      <th>cat1</th>\n",
              "      <th>cat2</th>\n",
              "      <th>cat3</th>\n",
              "    </tr>\n",
              "  </thead>\n",
              "  <tbody>\n",
              "    <tr>\n",
              "      <th>0</th>\n",
              "      <td>TRAIN_00000</td>\n",
              "      <td>./image/train/TRAIN_00000.jpg</td>\n",
              "      <td>['소안항', '조용한', '인근해안', '청정해역', '양식', '소득', '바다...</td>\n",
              "      <td>자연</td>\n",
              "      <td>자연관광지</td>\n",
              "      <td>항구/포구</td>\n",
              "    </tr>\n",
              "    <tr>\n",
              "      <th>1</th>\n",
              "      <td>TRAIN_00001</td>\n",
              "      <td>./image/train/TRAIN_00001.jpg</td>\n",
              "      <td>['경기', '이천시', '모가면', '골프장', '대중제', '홀', '회원제',...</td>\n",
              "      <td>레포츠</td>\n",
              "      <td>육상 레포츠</td>\n",
              "      <td>골프</td>\n",
              "    </tr>\n",
              "    <tr>\n",
              "      <th>2</th>\n",
              "      <td>TRAIN_00002</td>\n",
              "      <td>./image/train/TRAIN_00002.jpg</td>\n",
              "      <td>['금오산성숯불갈비', '한우고기만', '전문적', '취급', '사용', '부식',...</td>\n",
              "      <td>음식</td>\n",
              "      <td>음식점</td>\n",
              "      <td>한식</td>\n",
              "    </tr>\n",
              "    <tr>\n",
              "      <th>3</th>\n",
              "      <td>TRAIN_00003</td>\n",
              "      <td>./image/train/TRAIN_00003.jpg</td>\n",
              "      <td>['철판', '위', '요리', '안동찜닭', '수', '곳', '경상북', '안동...</td>\n",
              "      <td>음식</td>\n",
              "      <td>음식점</td>\n",
              "      <td>한식</td>\n",
              "    </tr>\n",
              "    <tr>\n",
              "      <th>4</th>\n",
              "      <td>TRAIN_00004</td>\n",
              "      <td>./image/train/TRAIN_00004.jpg</td>\n",
              "      <td>['영업시간', '대', '아귀만', '전문', '취급', '전통', '역사', '...</td>\n",
              "      <td>음식</td>\n",
              "      <td>음식점</td>\n",
              "      <td>한식</td>\n",
              "    </tr>\n",
              "    <tr>\n",
              "      <th>...</th>\n",
              "      <td>...</td>\n",
              "      <td>...</td>\n",
              "      <td>...</td>\n",
              "      <td>...</td>\n",
              "      <td>...</td>\n",
              "      <td>...</td>\n",
              "    </tr>\n",
              "    <tr>\n",
              "      <th>16981</th>\n",
              "      <td>TRAIN_16981</td>\n",
              "      <td>./image/train/TRAIN_16981.jpg</td>\n",
              "      <td>['해발', '자리한', '식담겸', '카페점문점이다곤드레밥', '감자전', '판매']</td>\n",
              "      <td>음식</td>\n",
              "      <td>음식점</td>\n",
              "      <td>한식</td>\n",
              "    </tr>\n",
              "    <tr>\n",
              "      <th>16982</th>\n",
              "      <td>TRAIN_16982</td>\n",
              "      <td>./image/train/TRAIN_16982.jpg</td>\n",
              "      <td>['설악힐호텔', '동해고속도로', '속초톨게이트', '관광', '변', '속', ...</td>\n",
              "      <td>숙박</td>\n",
              "      <td>숙박시설</td>\n",
              "      <td>모텔</td>\n",
              "    </tr>\n",
              "    <tr>\n",
              "      <th>16983</th>\n",
              "      <td>TRAIN_16983</td>\n",
              "      <td>./image/train/TRAIN_16983.jpg</td>\n",
              "      <td>['충남', '서산시', '중심가', '위치한', '줌모텔', '프라이버스', '보...</td>\n",
              "      <td>숙박</td>\n",
              "      <td>숙박시설</td>\n",
              "      <td>모텔</td>\n",
              "    </tr>\n",
              "    <tr>\n",
              "      <th>16984</th>\n",
              "      <td>TRAIN_16984</td>\n",
              "      <td>./image/train/TRAIN_16984.jpg</td>\n",
              "      <td>['토토큰바위캠핑장', '경기', '가평지역', '내', '청정지역', '지역', ...</td>\n",
              "      <td>레포츠</td>\n",
              "      <td>육상 레포츠</td>\n",
              "      <td>야영장,오토캠핑장</td>\n",
              "    </tr>\n",
              "    <tr>\n",
              "      <th>16985</th>\n",
              "      <td>TRAIN_16985</td>\n",
              "      <td>./image/train/TRAIN_16985.jpg</td>\n",
              "      <td>['포천', '진산', '왕방산', '천년', '역사', '간직', '왕산사', '...</td>\n",
              "      <td>인문(문화/예술/역사)</td>\n",
              "      <td>역사관광지</td>\n",
              "      <td>사찰</td>\n",
              "    </tr>\n",
              "  </tbody>\n",
              "</table>\n",
              "<p>16986 rows × 6 columns</p>\n",
              "</div>\n",
              "      <button class=\"colab-df-convert\" onclick=\"convertToInteractive('df-583c1cbd-7ff7-4ad4-b102-6514964102ba')\"\n",
              "              title=\"Convert this dataframe to an interactive table.\"\n",
              "              style=\"display:none;\">\n",
              "        \n",
              "  <svg xmlns=\"http://www.w3.org/2000/svg\" height=\"24px\"viewBox=\"0 0 24 24\"\n",
              "       width=\"24px\">\n",
              "    <path d=\"M0 0h24v24H0V0z\" fill=\"none\"/>\n",
              "    <path d=\"M18.56 5.44l.94 2.06.94-2.06 2.06-.94-2.06-.94-.94-2.06-.94 2.06-2.06.94zm-11 1L8.5 8.5l.94-2.06 2.06-.94-2.06-.94L8.5 2.5l-.94 2.06-2.06.94zm10 10l.94 2.06.94-2.06 2.06-.94-2.06-.94-.94-2.06-.94 2.06-2.06.94z\"/><path d=\"M17.41 7.96l-1.37-1.37c-.4-.4-.92-.59-1.43-.59-.52 0-1.04.2-1.43.59L10.3 9.45l-7.72 7.72c-.78.78-.78 2.05 0 2.83L4 21.41c.39.39.9.59 1.41.59.51 0 1.02-.2 1.41-.59l7.78-7.78 2.81-2.81c.8-.78.8-2.07 0-2.86zM5.41 20L4 18.59l7.72-7.72 1.47 1.35L5.41 20z\"/>\n",
              "  </svg>\n",
              "      </button>\n",
              "      \n",
              "  <style>\n",
              "    .colab-df-container {\n",
              "      display:flex;\n",
              "      flex-wrap:wrap;\n",
              "      gap: 12px;\n",
              "    }\n",
              "\n",
              "    .colab-df-convert {\n",
              "      background-color: #E8F0FE;\n",
              "      border: none;\n",
              "      border-radius: 50%;\n",
              "      cursor: pointer;\n",
              "      display: none;\n",
              "      fill: #1967D2;\n",
              "      height: 32px;\n",
              "      padding: 0 0 0 0;\n",
              "      width: 32px;\n",
              "    }\n",
              "\n",
              "    .colab-df-convert:hover {\n",
              "      background-color: #E2EBFA;\n",
              "      box-shadow: 0px 1px 2px rgba(60, 64, 67, 0.3), 0px 1px 3px 1px rgba(60, 64, 67, 0.15);\n",
              "      fill: #174EA6;\n",
              "    }\n",
              "\n",
              "    [theme=dark] .colab-df-convert {\n",
              "      background-color: #3B4455;\n",
              "      fill: #D2E3FC;\n",
              "    }\n",
              "\n",
              "    [theme=dark] .colab-df-convert:hover {\n",
              "      background-color: #434B5C;\n",
              "      box-shadow: 0px 1px 3px 1px rgba(0, 0, 0, 0.15);\n",
              "      filter: drop-shadow(0px 1px 2px rgba(0, 0, 0, 0.3));\n",
              "      fill: #FFFFFF;\n",
              "    }\n",
              "  </style>\n",
              "\n",
              "      <script>\n",
              "        const buttonEl =\n",
              "          document.querySelector('#df-583c1cbd-7ff7-4ad4-b102-6514964102ba button.colab-df-convert');\n",
              "        buttonEl.style.display =\n",
              "          google.colab.kernel.accessAllowed ? 'block' : 'none';\n",
              "\n",
              "        async function convertToInteractive(key) {\n",
              "          const element = document.querySelector('#df-583c1cbd-7ff7-4ad4-b102-6514964102ba');\n",
              "          const dataTable =\n",
              "            await google.colab.kernel.invokeFunction('convertToInteractive',\n",
              "                                                     [key], {});\n",
              "          if (!dataTable) return;\n",
              "\n",
              "          const docLinkHtml = 'Like what you see? Visit the ' +\n",
              "            '<a target=\"_blank\" href=https://colab.research.google.com/notebooks/data_table.ipynb>data table notebook</a>'\n",
              "            + ' to learn more about interactive tables.';\n",
              "          element.innerHTML = '';\n",
              "          dataTable['output_type'] = 'display_data';\n",
              "          await google.colab.output.renderOutput(dataTable, element);\n",
              "          const docLink = document.createElement('div');\n",
              "          docLink.innerHTML = docLinkHtml;\n",
              "          element.appendChild(docLink);\n",
              "        }\n",
              "      </script>\n",
              "    </div>\n",
              "  </div>\n",
              "  "
            ]
          },
          "metadata": {},
          "execution_count": 7
        }
      ]
    },
    {
      "cell_type": "code",
      "source": [
        "from sklearn.feature_extraction.text import CountVectorizer"
      ],
      "metadata": {
        "id": "GYhCLYaFnZDW"
      },
      "id": "GYhCLYaFnZDW",
      "execution_count": 18,
      "outputs": []
    },
    {
      "cell_type": "code",
      "source": [
        "vectorizer = CountVectorizer(min_df=1)\n",
        "#content = df[\"overview\"][0]"
      ],
      "metadata": {
        "id": "gwxWhOU_q4lh"
      },
      "id": "gwxWhOU_q4lh",
      "execution_count": 19,
      "outputs": []
    },
    {
      "cell_type": "code",
      "source": [
        "import re"
      ],
      "metadata": {
        "id": "bN4ojrA0q7Ou"
      },
      "id": "bN4ojrA0q7Ou",
      "execution_count": 21,
      "outputs": []
    },
    {
      "cell_type": "code",
      "source": [
        "import torch"
      ],
      "metadata": {
        "id": "ODORfDXMyXZW"
      },
      "id": "ODORfDXMyXZW",
      "execution_count": 30,
      "outputs": []
    },
    {
      "cell_type": "code",
      "source": [
        "device = torch.device('cuda') if torch.cuda.is_available() else torch.device('cpu')\n",
        "device"
      ],
      "metadata": {
        "colab": {
          "base_uri": "https://localhost:8080/"
        },
        "id": "ZyovxrXAq7TW",
        "outputId": "ffb627f3-4c92-41a0-a86c-8d50cb0dc330"
      },
      "id": "ZyovxrXAq7TW",
      "execution_count": 31,
      "outputs": [
        {
          "output_type": "execute_result",
          "data": {
            "text/plain": [
              "device(type='cuda')"
            ]
          },
          "metadata": {},
          "execution_count": 31
        }
      ]
    },
    {
      "cell_type": "code",
      "source": [
        "compile = re.compile(\"[^ ㄱ-ㅣ가-힣]+\")\n",
        "for i in range(df.shape[0]):\n",
        "  for j in range(len(df[\"overview\"][i])):\n",
        "\n",
        "      a = compile.sub(\"\",df[\"overview\"][i])\n",
        "      df[\"overview\"][i] = a"
      ],
      "metadata": {
        "id": "nmV7Ihz4q7RB"
      },
      "id": "nmV7Ihz4q7RB",
      "execution_count": 34,
      "outputs": []
    },
    {
      "cell_type": "code",
      "source": [
        "df"
      ],
      "metadata": {
        "colab": {
          "base_uri": "https://localhost:8080/",
          "height": 174
        },
        "id": "4ZnPuMpOykbH",
        "outputId": "8488ad92-533e-4c94-d98b-f6061cb6fa70"
      },
      "id": "4ZnPuMpOykbH",
      "execution_count": 1,
      "outputs": [
        {
          "output_type": "error",
          "ename": "NameError",
          "evalue": "ignored",
          "traceback": [
            "\u001b[0;31m---------------------------------------------------------------------------\u001b[0m",
            "\u001b[0;31mNameError\u001b[0m                                 Traceback (most recent call last)",
            "\u001b[0;32m<ipython-input-1-00cf07b74dcd>\u001b[0m in \u001b[0;36m<module>\u001b[0;34m\u001b[0m\n\u001b[0;32m----> 1\u001b[0;31m \u001b[0mdf\u001b[0m\u001b[0;34m\u001b[0m\u001b[0;34m\u001b[0m\u001b[0m\n\u001b[0m",
            "\u001b[0;31mNameError\u001b[0m: name 'df' is not defined"
          ]
        }
      ]
    },
    {
      "cell_type": "code",
      "source": [
        "pip install konlpy"
      ],
      "metadata": {
        "colab": {
          "base_uri": "https://localhost:8080/"
        },
        "id": "xjeazp8Yykdx",
        "outputId": "a817cd85-1e34-41c1-9458-83030e855473"
      },
      "id": "xjeazp8Yykdx",
      "execution_count": 36,
      "outputs": [
        {
          "output_type": "stream",
          "name": "stdout",
          "text": [
            "Looking in indexes: https://pypi.org/simple, https://us-python.pkg.dev/colab-wheels/public/simple/\n",
            "Collecting konlpy\n",
            "  Downloading konlpy-0.6.0-py2.py3-none-any.whl (19.4 MB)\n",
            "\u001b[K     |████████████████████████████████| 19.4 MB 1.2 MB/s \n",
            "\u001b[?25hRequirement already satisfied: lxml>=4.1.0 in /usr/local/lib/python3.7/dist-packages (from konlpy) (4.9.1)\n",
            "Collecting JPype1>=0.7.0\n",
            "  Downloading JPype1-1.4.0-cp37-cp37m-manylinux_2_5_x86_64.manylinux1_x86_64.whl (453 kB)\n",
            "\u001b[K     |████████████████████████████████| 453 kB 58.8 MB/s \n",
            "\u001b[?25hRequirement already satisfied: numpy>=1.6 in /usr/local/lib/python3.7/dist-packages (from konlpy) (1.21.6)\n",
            "Requirement already satisfied: typing-extensions in /usr/local/lib/python3.7/dist-packages (from JPype1>=0.7.0->konlpy) (4.1.1)\n",
            "Installing collected packages: JPype1, konlpy\n",
            "Successfully installed JPype1-1.4.0 konlpy-0.6.0\n"
          ]
        }
      ]
    },
    {
      "cell_type": "code",
      "source": [
        "import konlpy\n",
        "from konlpy.tag import *\n",
        "tokenizer = Hannanum()"
      ],
      "metadata": {
        "id": "4A-ZLWaDykg8"
      },
      "id": "4A-ZLWaDykg8",
      "execution_count": 38,
      "outputs": []
    },
    {
      "cell_type": "code",
      "source": [
        "text = df['overview']"
      ],
      "metadata": {
        "id": "lDJRO_a953TD"
      },
      "id": "lDJRO_a953TD",
      "execution_count": 46,
      "outputs": []
    },
    {
      "cell_type": "code",
      "source": [
        "for i in range(len(df['overview'])):\n",
        "  df['overview'][i] = tokenizer.nouns(text[i])"
      ],
      "metadata": {
        "id": "q2i3nuL_-D8o"
      },
      "id": "q2i3nuL_-D8o",
      "execution_count": 47,
      "outputs": []
    },
    {
      "cell_type": "code",
      "source": [
        "df"
      ],
      "metadata": {
        "colab": {
          "base_uri": "https://localhost:8080/",
          "height": 424
        },
        "id": "_wbvoqP8-D-v",
        "outputId": "19d90949-b0da-475b-b6f7-aabf1ec781f0"
      },
      "id": "_wbvoqP8-D-v",
      "execution_count": 48,
      "outputs": [
        {
          "output_type": "execute_result",
          "data": {
            "text/plain": [
              "                id                       img_path  \\\n",
              "0      TRAIN_00000  ./image/train/TRAIN_00000.jpg   \n",
              "1      TRAIN_00001  ./image/train/TRAIN_00001.jpg   \n",
              "2      TRAIN_00002  ./image/train/TRAIN_00002.jpg   \n",
              "3      TRAIN_00003  ./image/train/TRAIN_00003.jpg   \n",
              "4      TRAIN_00004  ./image/train/TRAIN_00004.jpg   \n",
              "...            ...                            ...   \n",
              "16981  TRAIN_16981  ./image/train/TRAIN_16981.jpg   \n",
              "16982  TRAIN_16982  ./image/train/TRAIN_16982.jpg   \n",
              "16983  TRAIN_16983  ./image/train/TRAIN_16983.jpg   \n",
              "16984  TRAIN_16984  ./image/train/TRAIN_16984.jpg   \n",
              "16985  TRAIN_16985  ./image/train/TRAIN_16985.jpg   \n",
              "\n",
              "                                                overview          cat1  \\\n",
              "0      [소안항, 조용한, 인근해안, 청정해역, 양식, 소득, 바다낚시터, 유명, 항, 주...            자연   \n",
              "1      [경기, 이천시, 모가면, 골프장, 대중제, 홀, 회원제, 개장, 년, 대중제, 전...           레포츠   \n",
              "2      [금오산성숯불갈비, 한우고기만, 전문적, 취급, 사용, 부식, 자재, 유기농법, 재...            음식   \n",
              "3      [철판, 위, 요리, 안동찜닭, 수, 곳, 경상북, 안동시, 식, 전문점, 대표메뉴...            음식   \n",
              "4                [영업시간, 대, 아귀만, 전문, 취급, 전통, 역사, 자랑, 음식점]            음식   \n",
              "...                                                  ...           ...   \n",
              "16981               [해발, 자리한, 식담겸, 카페점문점이다곤드레밥, 감자전, 판매]            음식   \n",
              "16982  [설악힐호텔, 동해고속도로, 속초톨게이트, 관광, 변, 속, 대표, 여행지, 청초호...            숙박   \n",
              "16983  [충남, 서산시, 중심가, 위치한, 줌모텔, 프라이버스, 보장, 조용한, 공간, 가...            숙박   \n",
              "16984  [토토큰바위캠핑장, 경기, 가평지역, 내, 청정지역, 지역, 주변, 화악산, 중봉,...           레포츠   \n",
              "16985  [포천, 진산, 왕방산, 천년, 역사, 간직, 왕산사, 자리, 도선국사, 절, 창건...  인문(문화/예술/역사)   \n",
              "\n",
              "         cat2       cat3  \n",
              "0       자연관광지      항구/포구  \n",
              "1      육상 레포츠         골프  \n",
              "2         음식점         한식  \n",
              "3         음식점         한식  \n",
              "4         음식점         한식  \n",
              "...       ...        ...  \n",
              "16981     음식점         한식  \n",
              "16982    숙박시설         모텔  \n",
              "16983    숙박시설         모텔  \n",
              "16984  육상 레포츠  야영장,오토캠핑장  \n",
              "16985   역사관광지         사찰  \n",
              "\n",
              "[16986 rows x 6 columns]"
            ],
            "text/html": [
              "\n",
              "  <div id=\"df-37f12206-3dd8-4655-b875-ffcc7b88c38f\">\n",
              "    <div class=\"colab-df-container\">\n",
              "      <div>\n",
              "<style scoped>\n",
              "    .dataframe tbody tr th:only-of-type {\n",
              "        vertical-align: middle;\n",
              "    }\n",
              "\n",
              "    .dataframe tbody tr th {\n",
              "        vertical-align: top;\n",
              "    }\n",
              "\n",
              "    .dataframe thead th {\n",
              "        text-align: right;\n",
              "    }\n",
              "</style>\n",
              "<table border=\"1\" class=\"dataframe\">\n",
              "  <thead>\n",
              "    <tr style=\"text-align: right;\">\n",
              "      <th></th>\n",
              "      <th>id</th>\n",
              "      <th>img_path</th>\n",
              "      <th>overview</th>\n",
              "      <th>cat1</th>\n",
              "      <th>cat2</th>\n",
              "      <th>cat3</th>\n",
              "    </tr>\n",
              "  </thead>\n",
              "  <tbody>\n",
              "    <tr>\n",
              "      <th>0</th>\n",
              "      <td>TRAIN_00000</td>\n",
              "      <td>./image/train/TRAIN_00000.jpg</td>\n",
              "      <td>[소안항, 조용한, 인근해안, 청정해역, 양식, 소득, 바다낚시터, 유명, 항, 주...</td>\n",
              "      <td>자연</td>\n",
              "      <td>자연관광지</td>\n",
              "      <td>항구/포구</td>\n",
              "    </tr>\n",
              "    <tr>\n",
              "      <th>1</th>\n",
              "      <td>TRAIN_00001</td>\n",
              "      <td>./image/train/TRAIN_00001.jpg</td>\n",
              "      <td>[경기, 이천시, 모가면, 골프장, 대중제, 홀, 회원제, 개장, 년, 대중제, 전...</td>\n",
              "      <td>레포츠</td>\n",
              "      <td>육상 레포츠</td>\n",
              "      <td>골프</td>\n",
              "    </tr>\n",
              "    <tr>\n",
              "      <th>2</th>\n",
              "      <td>TRAIN_00002</td>\n",
              "      <td>./image/train/TRAIN_00002.jpg</td>\n",
              "      <td>[금오산성숯불갈비, 한우고기만, 전문적, 취급, 사용, 부식, 자재, 유기농법, 재...</td>\n",
              "      <td>음식</td>\n",
              "      <td>음식점</td>\n",
              "      <td>한식</td>\n",
              "    </tr>\n",
              "    <tr>\n",
              "      <th>3</th>\n",
              "      <td>TRAIN_00003</td>\n",
              "      <td>./image/train/TRAIN_00003.jpg</td>\n",
              "      <td>[철판, 위, 요리, 안동찜닭, 수, 곳, 경상북, 안동시, 식, 전문점, 대표메뉴...</td>\n",
              "      <td>음식</td>\n",
              "      <td>음식점</td>\n",
              "      <td>한식</td>\n",
              "    </tr>\n",
              "    <tr>\n",
              "      <th>4</th>\n",
              "      <td>TRAIN_00004</td>\n",
              "      <td>./image/train/TRAIN_00004.jpg</td>\n",
              "      <td>[영업시간, 대, 아귀만, 전문, 취급, 전통, 역사, 자랑, 음식점]</td>\n",
              "      <td>음식</td>\n",
              "      <td>음식점</td>\n",
              "      <td>한식</td>\n",
              "    </tr>\n",
              "    <tr>\n",
              "      <th>...</th>\n",
              "      <td>...</td>\n",
              "      <td>...</td>\n",
              "      <td>...</td>\n",
              "      <td>...</td>\n",
              "      <td>...</td>\n",
              "      <td>...</td>\n",
              "    </tr>\n",
              "    <tr>\n",
              "      <th>16981</th>\n",
              "      <td>TRAIN_16981</td>\n",
              "      <td>./image/train/TRAIN_16981.jpg</td>\n",
              "      <td>[해발, 자리한, 식담겸, 카페점문점이다곤드레밥, 감자전, 판매]</td>\n",
              "      <td>음식</td>\n",
              "      <td>음식점</td>\n",
              "      <td>한식</td>\n",
              "    </tr>\n",
              "    <tr>\n",
              "      <th>16982</th>\n",
              "      <td>TRAIN_16982</td>\n",
              "      <td>./image/train/TRAIN_16982.jpg</td>\n",
              "      <td>[설악힐호텔, 동해고속도로, 속초톨게이트, 관광, 변, 속, 대표, 여행지, 청초호...</td>\n",
              "      <td>숙박</td>\n",
              "      <td>숙박시설</td>\n",
              "      <td>모텔</td>\n",
              "    </tr>\n",
              "    <tr>\n",
              "      <th>16983</th>\n",
              "      <td>TRAIN_16983</td>\n",
              "      <td>./image/train/TRAIN_16983.jpg</td>\n",
              "      <td>[충남, 서산시, 중심가, 위치한, 줌모텔, 프라이버스, 보장, 조용한, 공간, 가...</td>\n",
              "      <td>숙박</td>\n",
              "      <td>숙박시설</td>\n",
              "      <td>모텔</td>\n",
              "    </tr>\n",
              "    <tr>\n",
              "      <th>16984</th>\n",
              "      <td>TRAIN_16984</td>\n",
              "      <td>./image/train/TRAIN_16984.jpg</td>\n",
              "      <td>[토토큰바위캠핑장, 경기, 가평지역, 내, 청정지역, 지역, 주변, 화악산, 중봉,...</td>\n",
              "      <td>레포츠</td>\n",
              "      <td>육상 레포츠</td>\n",
              "      <td>야영장,오토캠핑장</td>\n",
              "    </tr>\n",
              "    <tr>\n",
              "      <th>16985</th>\n",
              "      <td>TRAIN_16985</td>\n",
              "      <td>./image/train/TRAIN_16985.jpg</td>\n",
              "      <td>[포천, 진산, 왕방산, 천년, 역사, 간직, 왕산사, 자리, 도선국사, 절, 창건...</td>\n",
              "      <td>인문(문화/예술/역사)</td>\n",
              "      <td>역사관광지</td>\n",
              "      <td>사찰</td>\n",
              "    </tr>\n",
              "  </tbody>\n",
              "</table>\n",
              "<p>16986 rows × 6 columns</p>\n",
              "</div>\n",
              "      <button class=\"colab-df-convert\" onclick=\"convertToInteractive('df-37f12206-3dd8-4655-b875-ffcc7b88c38f')\"\n",
              "              title=\"Convert this dataframe to an interactive table.\"\n",
              "              style=\"display:none;\">\n",
              "        \n",
              "  <svg xmlns=\"http://www.w3.org/2000/svg\" height=\"24px\"viewBox=\"0 0 24 24\"\n",
              "       width=\"24px\">\n",
              "    <path d=\"M0 0h24v24H0V0z\" fill=\"none\"/>\n",
              "    <path d=\"M18.56 5.44l.94 2.06.94-2.06 2.06-.94-2.06-.94-.94-2.06-.94 2.06-2.06.94zm-11 1L8.5 8.5l.94-2.06 2.06-.94-2.06-.94L8.5 2.5l-.94 2.06-2.06.94zm10 10l.94 2.06.94-2.06 2.06-.94-2.06-.94-.94-2.06-.94 2.06-2.06.94z\"/><path d=\"M17.41 7.96l-1.37-1.37c-.4-.4-.92-.59-1.43-.59-.52 0-1.04.2-1.43.59L10.3 9.45l-7.72 7.72c-.78.78-.78 2.05 0 2.83L4 21.41c.39.39.9.59 1.41.59.51 0 1.02-.2 1.41-.59l7.78-7.78 2.81-2.81c.8-.78.8-2.07 0-2.86zM5.41 20L4 18.59l7.72-7.72 1.47 1.35L5.41 20z\"/>\n",
              "  </svg>\n",
              "      </button>\n",
              "      \n",
              "  <style>\n",
              "    .colab-df-container {\n",
              "      display:flex;\n",
              "      flex-wrap:wrap;\n",
              "      gap: 12px;\n",
              "    }\n",
              "\n",
              "    .colab-df-convert {\n",
              "      background-color: #E8F0FE;\n",
              "      border: none;\n",
              "      border-radius: 50%;\n",
              "      cursor: pointer;\n",
              "      display: none;\n",
              "      fill: #1967D2;\n",
              "      height: 32px;\n",
              "      padding: 0 0 0 0;\n",
              "      width: 32px;\n",
              "    }\n",
              "\n",
              "    .colab-df-convert:hover {\n",
              "      background-color: #E2EBFA;\n",
              "      box-shadow: 0px 1px 2px rgba(60, 64, 67, 0.3), 0px 1px 3px 1px rgba(60, 64, 67, 0.15);\n",
              "      fill: #174EA6;\n",
              "    }\n",
              "\n",
              "    [theme=dark] .colab-df-convert {\n",
              "      background-color: #3B4455;\n",
              "      fill: #D2E3FC;\n",
              "    }\n",
              "\n",
              "    [theme=dark] .colab-df-convert:hover {\n",
              "      background-color: #434B5C;\n",
              "      box-shadow: 0px 1px 3px 1px rgba(0, 0, 0, 0.15);\n",
              "      filter: drop-shadow(0px 1px 2px rgba(0, 0, 0, 0.3));\n",
              "      fill: #FFFFFF;\n",
              "    }\n",
              "  </style>\n",
              "\n",
              "      <script>\n",
              "        const buttonEl =\n",
              "          document.querySelector('#df-37f12206-3dd8-4655-b875-ffcc7b88c38f button.colab-df-convert');\n",
              "        buttonEl.style.display =\n",
              "          google.colab.kernel.accessAllowed ? 'block' : 'none';\n",
              "\n",
              "        async function convertToInteractive(key) {\n",
              "          const element = document.querySelector('#df-37f12206-3dd8-4655-b875-ffcc7b88c38f');\n",
              "          const dataTable =\n",
              "            await google.colab.kernel.invokeFunction('convertToInteractive',\n",
              "                                                     [key], {});\n",
              "          if (!dataTable) return;\n",
              "\n",
              "          const docLinkHtml = 'Like what you see? Visit the ' +\n",
              "            '<a target=\"_blank\" href=https://colab.research.google.com/notebooks/data_table.ipynb>data table notebook</a>'\n",
              "            + ' to learn more about interactive tables.';\n",
              "          element.innerHTML = '';\n",
              "          dataTable['output_type'] = 'display_data';\n",
              "          await google.colab.output.renderOutput(dataTable, element);\n",
              "          const docLink = document.createElement('div');\n",
              "          docLink.innerHTML = docLinkHtml;\n",
              "          element.appendChild(docLink);\n",
              "        }\n",
              "      </script>\n",
              "    </div>\n",
              "  </div>\n",
              "  "
            ]
          },
          "metadata": {},
          "execution_count": 48
        }
      ]
    },
    {
      "cell_type": "code",
      "source": [
        "df.to_csv('./train_v2.csv', index=False)"
      ],
      "metadata": {
        "id": "IQjPYPmI-EA8"
      },
      "id": "IQjPYPmI-EA8",
      "execution_count": 49,
      "outputs": []
    },
    {
      "cell_type": "code",
      "source": [
        "test_df = pd.read_csv(\"test.csv\")"
      ],
      "metadata": {
        "id": "dN3wdozH-EDE"
      },
      "id": "dN3wdozH-EDE",
      "execution_count": 50,
      "outputs": []
    },
    {
      "cell_type": "code",
      "source": [
        "compile = re.compile(\"[^ ㄱ-ㅣ가-힣]+\")\n",
        "for i in range(test_df.shape[0]):\n",
        "  for j in range(len(test_df[\"overview\"][i])):\n",
        "\n",
        "      a = compile.sub(\"\",test_df[\"overview\"][i])\n",
        "      test_df[\"overview\"][i] = a"
      ],
      "metadata": {
        "id": "dr2cb753I_18"
      },
      "id": "dr2cb753I_18",
      "execution_count": 52,
      "outputs": []
    },
    {
      "cell_type": "code",
      "source": [
        "test_text = test_df['overview']"
      ],
      "metadata": {
        "id": "JAgf3LbII_4p"
      },
      "id": "JAgf3LbII_4p",
      "execution_count": 53,
      "outputs": []
    },
    {
      "cell_type": "code",
      "source": [
        "for i in range(len(test_df['overview'])):\n",
        "  test_df['overview'][i] = tokenizer.nouns(test_text[i])"
      ],
      "metadata": {
        "id": "Zl23SoYwI_72"
      },
      "id": "Zl23SoYwI_72",
      "execution_count": 54,
      "outputs": []
    },
    {
      "cell_type": "code",
      "source": [
        "test_df.to_csv('./test_v2.csv', index=False)"
      ],
      "metadata": {
        "id": "xSv9i9iWI_-i"
      },
      "id": "xSv9i9iWI_-i",
      "execution_count": 56,
      "outputs": []
    },
    {
      "cell_type": "code",
      "source": [
        "df['overview']"
      ],
      "metadata": {
        "colab": {
          "base_uri": "https://localhost:8080/"
        },
        "id": "w1QzeGv_LuYC",
        "outputId": "bfd8149b-495d-4f92-e512-1083659c76e6"
      },
      "id": "w1QzeGv_LuYC",
      "execution_count": 57,
      "outputs": [
        {
          "output_type": "execute_result",
          "data": {
            "text/plain": [
              "0        [소안항, 조용한, 인근해안, 청정해역, 양식, 소득, 바다낚시터, 유명, 항, 주...\n",
              "1        [경기, 이천시, 모가면, 골프장, 대중제, 홀, 회원제, 개장, 년, 대중제, 전...\n",
              "2        [금오산성숯불갈비, 한우고기만, 전문적, 취급, 사용, 부식, 자재, 유기농법, 재...\n",
              "3        [철판, 위, 요리, 안동찜닭, 수, 곳, 경상북, 안동시, 식, 전문점, 대표메뉴...\n",
              "4                  [영업시간, 대, 아귀만, 전문, 취급, 전통, 역사, 자랑, 음식점]\n",
              "                               ...                        \n",
              "16981                 [해발, 자리한, 식담겸, 카페점문점이다곤드레밥, 감자전, 판매]\n",
              "16982    [설악힐호텔, 동해고속도로, 속초톨게이트, 관광, 변, 속, 대표, 여행지, 청초호...\n",
              "16983    [충남, 서산시, 중심가, 위치한, 줌모텔, 프라이버스, 보장, 조용한, 공간, 가...\n",
              "16984    [토토큰바위캠핑장, 경기, 가평지역, 내, 청정지역, 지역, 주변, 화악산, 중봉,...\n",
              "16985    [포천, 진산, 왕방산, 천년, 역사, 간직, 왕산사, 자리, 도선국사, 절, 창건...\n",
              "Name: overview, Length: 16986, dtype: object"
            ]
          },
          "metadata": {},
          "execution_count": 57
        }
      ]
    },
    {
      "cell_type": "code",
      "source": [
        "from sklearn.feature_extraction.text import TfidfVectorizer"
      ],
      "metadata": {
        "id": "lnc-RkMjLuai"
      },
      "id": "lnc-RkMjLuai",
      "execution_count": 58,
      "outputs": []
    },
    {
      "cell_type": "code",
      "source": [
        "def listToString(list):\n",
        "  result = \"\"\n",
        "  for w in list:\n",
        "    result += w+\" \"\n",
        "  return result.strip()"
      ],
      "metadata": {
        "id": "CwzqOQ17LufK"
      },
      "id": "CwzqOQ17LufK",
      "execution_count": 60,
      "outputs": []
    },
    {
      "cell_type": "code",
      "source": [
        "test1 = listToString(df['overview'][0])"
      ],
      "metadata": {
        "id": "U8T5h5iYQuDI"
      },
      "id": "U8T5h5iYQuDI",
      "execution_count": 63,
      "outputs": []
    },
    {
      "cell_type": "code",
      "source": [
        "test2 = listToString(df['overview'][0])"
      ],
      "metadata": {
        "id": "Dpjy0-CaQuKB"
      },
      "id": "Dpjy0-CaQuKB",
      "execution_count": 64,
      "outputs": []
    },
    {
      "cell_type": "code",
      "source": [
        "corpus = [test1, test2]"
      ],
      "metadata": {
        "id": "x2LA8YnOQuRM"
      },
      "id": "x2LA8YnOQuRM",
      "execution_count": 65,
      "outputs": []
    },
    {
      "cell_type": "code",
      "source": [
        "tfidfv = TfidfVectorizer().fit(corpus)"
      ],
      "metadata": {
        "id": "tm44MxDrLuhI"
      },
      "id": "tm44MxDrLuhI",
      "execution_count": 66,
      "outputs": []
    },
    {
      "cell_type": "code",
      "source": [
        "print(tfidfv.transform(corpus).toarray())\n"
      ],
      "metadata": {
        "colab": {
          "base_uri": "https://localhost:8080/"
        },
        "id": "iC7Lt1uILujr",
        "outputId": "f0895f4f-d336-46e6-8739-bce2511a7665"
      },
      "id": "iC7Lt1uILujr",
      "execution_count": 67,
      "outputs": [
        {
          "output_type": "stream",
          "name": "stdout",
          "text": [
            "[[0.19245009 0.19245009 0.19245009 0.19245009 0.19245009 0.19245009\n",
            "  0.19245009 0.19245009 0.19245009 0.19245009 0.19245009 0.19245009\n",
            "  0.19245009 0.19245009 0.19245009 0.19245009 0.19245009 0.19245009\n",
            "  0.19245009 0.19245009 0.19245009 0.19245009 0.19245009 0.19245009\n",
            "  0.19245009 0.19245009 0.19245009]\n",
            " [0.19245009 0.19245009 0.19245009 0.19245009 0.19245009 0.19245009\n",
            "  0.19245009 0.19245009 0.19245009 0.19245009 0.19245009 0.19245009\n",
            "  0.19245009 0.19245009 0.19245009 0.19245009 0.19245009 0.19245009\n",
            "  0.19245009 0.19245009 0.19245009 0.19245009 0.19245009 0.19245009\n",
            "  0.19245009 0.19245009 0.19245009]]\n"
          ]
        }
      ]
    },
    {
      "cell_type": "code",
      "source": [
        "print(tfidfv.vocabulary_)"
      ],
      "metadata": {
        "colab": {
          "base_uri": "https://localhost:8080/"
        },
        "id": "O_l6M-ygSSVq",
        "outputId": "88afcddc-4c93-4b66-8904-efd15003297f"
      },
      "id": "O_l6M-ygSSVq",
      "execution_count": 68,
      "outputs": [
        {
          "output_type": "stream",
          "name": "stdout",
          "text": [
            "{'소안항': 12, '조용한': 22, '인근해안': 17, '청정해역': 24, '양식': 14, '소득': 11, '바다낚시터': 5, '유명': 16, '주변': 23, '설치': 8, '양식장들': 15, '섬사람들': 10, '부지런': 6, '생활상': 7, '고스': 1, '란히': 3, '일몰': 18, '정경': 20, '바다': 4, '아름다움': 13, '각시': 0, '전설': 19, '도둑바위': 2, '설화': 9, '정월': 21, '풍어제': 26, '풍속': 25}\n"
          ]
        }
      ]
    },
    {
      "cell_type": "code",
      "source": [
        "from sklearn.feature_extraction.text import CountVectorizer"
      ],
      "metadata": {
        "id": "brlRw3n6TdaA"
      },
      "id": "brlRw3n6TdaA",
      "execution_count": 80,
      "outputs": []
    },
    {
      "cell_type": "code",
      "source": [
        "vectorizer = CountVectorizer(min_df=2)"
      ],
      "metadata": {
        "id": "JgNIYDYYTdcW"
      },
      "id": "JgNIYDYYTdcW",
      "execution_count": 81,
      "outputs": []
    },
    {
      "cell_type": "code",
      "source": [
        "X = vectorizer.fit_transform(corpus)"
      ],
      "metadata": {
        "id": "ZnXjO9O3YLQS"
      },
      "id": "ZnXjO9O3YLQS",
      "execution_count": 82,
      "outputs": []
    },
    {
      "cell_type": "code",
      "source": [
        "vectorizer.get_feature_names()"
      ],
      "metadata": {
        "colab": {
          "base_uri": "https://localhost:8080/"
        },
        "id": "hidAgrQ_YLTD",
        "outputId": "acf169e0-5b8d-456b-9b37-e3629d2f6943"
      },
      "id": "hidAgrQ_YLTD",
      "execution_count": 83,
      "outputs": [
        {
          "output_type": "stream",
          "name": "stderr",
          "text": [
            "/usr/local/lib/python3.7/dist-packages/sklearn/utils/deprecation.py:87: FutureWarning: Function get_feature_names is deprecated; get_feature_names is deprecated in 1.0 and will be removed in 1.2. Please use get_feature_names_out instead.\n",
            "  warnings.warn(msg, category=FutureWarning)\n"
          ]
        },
        {
          "output_type": "execute_result",
          "data": {
            "text/plain": [
              "['각시',\n",
              " '고스',\n",
              " '도둑바위',\n",
              " '란히',\n",
              " '바다',\n",
              " '바다낚시터',\n",
              " '부지런',\n",
              " '생활상',\n",
              " '설치',\n",
              " '설화',\n",
              " '섬사람들',\n",
              " '소득',\n",
              " '소안항',\n",
              " '아름다움',\n",
              " '양식',\n",
              " '양식장들',\n",
              " '유명',\n",
              " '인근해안',\n",
              " '일몰',\n",
              " '전설',\n",
              " '정경',\n",
              " '정월',\n",
              " '조용한',\n",
              " '주변',\n",
              " '청정해역',\n",
              " '풍속',\n",
              " '풍어제']"
            ]
          },
          "metadata": {},
          "execution_count": 83
        }
      ]
    },
    {
      "cell_type": "code",
      "source": [
        "X.toarray()"
      ],
      "metadata": {
        "colab": {
          "base_uri": "https://localhost:8080/"
        },
        "id": "DMBgoLK2YLUt",
        "outputId": "71b3cfdc-41b4-4b68-c435-444a8c8d7a85"
      },
      "id": "DMBgoLK2YLUt",
      "execution_count": 85,
      "outputs": [
        {
          "output_type": "execute_result",
          "data": {
            "text/plain": [
              "array([[1, 1, 1, 1, 1, 1, 1, 1, 1, 1, 1, 1, 1, 1, 1, 1, 1, 1, 1, 1, 1, 1,\n",
              "        1, 1, 1, 1, 1],\n",
              "       [1, 1, 1, 1, 1, 1, 1, 1, 1, 1, 1, 1, 1, 1, 1, 1, 1, 1, 1, 1, 1, 1,\n",
              "        1, 1, 1, 1, 1]])"
            ]
          },
          "metadata": {},
          "execution_count": 85
        }
      ]
    },
    {
      "cell_type": "code",
      "source": [],
      "metadata": {
        "id": "4pW2qH_EYLW0"
      },
      "id": "4pW2qH_EYLW0",
      "execution_count": null,
      "outputs": []
    }
  ],
  "metadata": {
    "kernelspec": {
      "display_name": "Python 3",
      "language": "python",
      "name": "python3"
    },
    "language_info": {
      "codemirror_mode": {
        "name": "ipython",
        "version": 3
      },
      "file_extension": ".py",
      "mimetype": "text/x-python",
      "name": "python",
      "nbconvert_exporter": "python",
      "pygments_lexer": "ipython3",
      "version": "3.7.6"
    },
    "colab": {
      "provenance": [],
      "collapsed_sections": [],
      "include_colab_link": true
    },
    "accelerator": "GPU"
  },
  "nbformat": 4,
  "nbformat_minor": 5
}