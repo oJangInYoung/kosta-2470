{
  "cells": [
    {
      "cell_type": "markdown",
      "metadata": {
        "id": "view-in-github",
        "colab_type": "text"
      },
      "source": [
        "<a href=\"https://colab.research.google.com/github/oJangInYoung/kosta-2470/blob/main/%EC%9E%A5%EC%9D%B8%EC%98%81_%5BBaseline%5D_Multi_Modal_(CNN%2BCountVectorizer)_%EB%B6%84%EB%A5%98_%EB%AA%A8%EB%8D%B8.ipynb\" target=\"_parent\"><img src=\"https://colab.research.google.com/assets/colab-badge.svg\" alt=\"Open In Colab\"/></a>"
      ]
    },
    {
      "cell_type": "markdown",
      "metadata": {
        "id": "8mEilfefYqb4"
      },
      "source": [
        "## Import"
      ],
      "id": "8mEilfefYqb4"
    },
    {
      "cell_type": "code",
      "execution_count": null,
      "metadata": {
        "id": "qPTWSFu-Yqb6"
      },
      "outputs": [],
      "source": [
        "import random\n",
        "import pandas as pd\n",
        "import numpy as np\n",
        "import os\n",
        "import cv2\n",
        "\n",
        "from sklearn import preprocessing\n",
        "from sklearn.feature_extraction.text import CountVectorizer\n",
        "from sklearn.model_selection import train_test_split\n",
        "\n",
        "import torch\n",
        "import torch.nn as nn\n",
        "import torch.optim as optim\n",
        "import torch.nn.functional as F\n",
        "from torch.utils.data import Dataset, DataLoader\n",
        "\n",
        "from tqdm.auto import tqdm\n",
        "\n",
        "import albumentations as A # fast image augmentation library\n",
        "from albumentations.pytorch.transforms import ToTensorV2 # 이미지 형 변환\n",
        "import torchvision.models as models\n",
        "\n",
        "from sklearn.metrics import f1_score, accuracy_score\n",
        "from sklearn.metrics import classification_report\n",
        "\n",
        "import warnings\n",
        "warnings.filterwarnings(action='ignore')"
      ],
      "id": "qPTWSFu-Yqb6"
    },
    {
      "cell_type": "code",
      "source": [
        "from google.colab import drive\n",
        "drive.mount('/content/drive/')"
      ],
      "metadata": {
        "colab": {
          "base_uri": "https://localhost:8080/"
        },
        "id": "5cOj8MXRUuVo",
        "outputId": "ea570c37-98b9-46d7-fcce-54f3ada84431"
      },
      "id": "5cOj8MXRUuVo",
      "execution_count": null,
      "outputs": [
        {
          "output_type": "stream",
          "name": "stdout",
          "text": [
            "Drive already mounted at /content/drive/; to attempt to forcibly remount, call drive.mount(\"/content/drive/\", force_remount=True).\n"
          ]
        }
      ]
    },
    {
      "cell_type": "code",
      "execution_count": null,
      "metadata": {
        "id": "NjkSKcj3Yqb8"
      },
      "outputs": [],
      "source": [
        "device = torch.device('cuda') if torch.cuda.is_available() else torch.device('cpu')\n",
        "# gpu 사용하기 위한 코드\n",
        "# cuda가 설치되어 있으면 gpu"
      ],
      "id": "NjkSKcj3Yqb8"
    },
    {
      "cell_type": "code",
      "source": [
        "device"
      ],
      "metadata": {
        "colab": {
          "base_uri": "https://localhost:8080/"
        },
        "id": "c93VNPGH0XAH",
        "outputId": "5c67807c-b4a4-4b91-938a-0b337a3574ed"
      },
      "id": "c93VNPGH0XAH",
      "execution_count": null,
      "outputs": [
        {
          "output_type": "execute_result",
          "data": {
            "text/plain": [
              "device(type='cpu')"
            ]
          },
          "metadata": {},
          "execution_count": 6
        }
      ]
    },
    {
      "cell_type": "code",
      "source": [
        "cd /content/drive/Shareddrives/2022_dlstudy/dacon/2022_sight/"
      ],
      "metadata": {
        "colab": {
          "base_uri": "https://localhost:8080/"
        },
        "id": "igV3EGtsU5d0",
        "outputId": "68344aec-7960-44ed-8878-84624997f615"
      },
      "id": "igV3EGtsU5d0",
      "execution_count": null,
      "outputs": [
        {
          "output_type": "stream",
          "name": "stdout",
          "text": [
            "/content/drive/Shareddrives/2022_dlstudy/dacon/2022_sight\n"
          ]
        }
      ]
    },
    {
      "cell_type": "markdown",
      "metadata": {
        "id": "IKfY4MLYYqb8"
      },
      "source": [
        "## Hyperparameter Setting"
      ],
      "id": "IKfY4MLYYqb8"
    },
    {
      "cell_type": "code",
      "execution_count": null,
      "metadata": {
        "id": "Ag8ewGK5Yqb9"
      },
      "outputs": [],
      "source": [
        "CFG = {\n",
        "    'IMG_SIZE':128,\n",
        "    'EPOCHS':5,\n",
        "    'LEARNING_RATE':3e-4,\n",
        "    'BATCH_SIZE':64,\n",
        "    'SEED':41\n",
        "}\n",
        "# 이미지 사이즈, 이폭, 학습률, 배치사이즈, 시드 고정"
      ],
      "id": "Ag8ewGK5Yqb9"
    },
    {
      "cell_type": "markdown",
      "metadata": {
        "id": "NHVDirSbYqb-"
      },
      "source": [
        "## Fixed RandomSeed"
      ],
      "id": "NHVDirSbYqb-"
    },
    {
      "cell_type": "code",
      "execution_count": null,
      "metadata": {
        "id": "uDCxH4oxYqb-"
      },
      "outputs": [],
      "source": [
        "def seed_everything(seed):\n",
        "    random.seed(seed)\n",
        "    os.environ['PYTHONHASHSEED'] = str(seed)\n",
        "    np.random.seed(seed)\n",
        "    torch.manual_seed(seed)\n",
        "    torch.cuda.manual_seed(seed)\n",
        "    torch.backends.cudnn.deterministic = True\n",
        "    torch.backends.cudnn.benchmark = True\n",
        "\n",
        "seed_everything(CFG['SEED']) # Seed 고정"
      ],
      "id": "uDCxH4oxYqb-"
    },
    {
      "cell_type": "markdown",
      "metadata": {
        "id": "o7K4p5NkYqb_"
      },
      "source": [
        "## Data Load "
      ],
      "id": "o7K4p5NkYqb_"
    },
    {
      "cell_type": "code",
      "execution_count": null,
      "metadata": {
        "id": "OQyg4_lJYqcA"
      },
      "outputs": [],
      "source": [
        "all_df = pd.read_csv('./train.csv')"
      ],
      "id": "OQyg4_lJYqcA"
    },
    {
      "cell_type": "markdown",
      "source": [
        "Overview를 토큰화하기"
      ],
      "metadata": {
        "id": "GRYO07DyJ68P"
      },
      "id": "GRYO07DyJ68P"
    },
    {
      "cell_type": "code",
      "source": [
        "from torchtext.data.utils import get_tokenizer"
      ],
      "metadata": {
        "id": "zCg9b0ZgJ6I-"
      },
      "id": "zCg9b0ZgJ6I-",
      "execution_count": null,
      "outputs": []
    },
    {
      "cell_type": "code",
      "source": [
        "pip install konlpy"
      ],
      "metadata": {
        "colab": {
          "base_uri": "https://localhost:8080/"
        },
        "id": "EnVl_1XnqghP",
        "outputId": "4ec9790c-6daa-4de3-cd57-aeb011cb9c3f"
      },
      "id": "EnVl_1XnqghP",
      "execution_count": null,
      "outputs": [
        {
          "output_type": "stream",
          "name": "stdout",
          "text": [
            "Looking in indexes: https://pypi.org/simple, https://us-python.pkg.dev/colab-wheels/public/simple/\n",
            "Requirement already satisfied: konlpy in /usr/local/lib/python3.7/dist-packages (0.6.0)\n",
            "Requirement already satisfied: numpy>=1.6 in /usr/local/lib/python3.7/dist-packages (from konlpy) (1.21.6)\n",
            "Requirement already satisfied: lxml>=4.1.0 in /usr/local/lib/python3.7/dist-packages (from konlpy) (4.9.1)\n",
            "Requirement already satisfied: JPype1>=0.7.0 in /usr/local/lib/python3.7/dist-packages (from konlpy) (1.4.0)\n",
            "Requirement already satisfied: typing-extensions in /usr/local/lib/python3.7/dist-packages (from JPype1>=0.7.0->konlpy) (4.1.1)\n"
          ]
        }
      ]
    },
    {
      "cell_type": "code",
      "source": [
        "import konlpy\n",
        "from konlpy.tag import *\n",
        "\n",
        "tokenizer = Hannanum()"
      ],
      "metadata": {
        "id": "TEoNxMJjL4J-"
      },
      "id": "TEoNxMJjL4J-",
      "execution_count": null,
      "outputs": []
    },
    {
      "cell_type": "code",
      "source": [
        "text = all_df['overview'][0]"
      ],
      "metadata": {
        "id": "avMXLlJSiT5N"
      },
      "id": "avMXLlJSiT5N",
      "execution_count": null,
      "outputs": []
    },
    {
      "cell_type": "code",
      "source": [
        "test_tokenize = tokenizer.nouns(text)"
      ],
      "metadata": {
        "id": "NcHj0V2MlPrg"
      },
      "id": "NcHj0V2MlPrg",
      "execution_count": null,
      "outputs": []
    },
    {
      "cell_type": "code",
      "source": [
        "test_tokenize"
      ],
      "metadata": {
        "colab": {
          "base_uri": "https://localhost:8080/"
        },
        "id": "0bBYYVpt9V3h",
        "outputId": "4105b9cf-8a2b-4d8a-dc8d-f61e0312e092"
      },
      "id": "0bBYYVpt9V3h",
      "execution_count": null,
      "outputs": [
        {
          "output_type": "execute_result",
          "data": {
            "text/plain": [
              "['소안항',\n",
              " '조용한',\n",
              " '인근해안',\n",
              " '청정해역',\n",
              " '양식',\n",
              " '소득',\n",
              " '바다낚시터',\n",
              " '유명',\n",
              " '항',\n",
              " '주변',\n",
              " '설치',\n",
              " '양식장들',\n",
              " '섬사람들',\n",
              " '부지런',\n",
              " '생활상',\n",
              " '고스',\n",
              " '란히',\n",
              " '일몰',\n",
              " '때',\n",
              " '섬',\n",
              " '정경',\n",
              " '바다',\n",
              " '아름다움',\n",
              " '각시',\n",
              " '전설',\n",
              " '도둑바위',\n",
              " '등',\n",
              " '설화',\n",
              " '정월',\n",
              " '풍어제',\n",
              " '풍속']"
            ]
          },
          "metadata": {},
          "execution_count": 16
        }
      ]
    },
    {
      "cell_type": "code",
      "source": [
        "text = all_df['overview']"
      ],
      "metadata": {
        "id": "vyAdwW3tXP9E"
      },
      "id": "vyAdwW3tXP9E",
      "execution_count": null,
      "outputs": []
    },
    {
      "cell_type": "code",
      "source": [
        "tokenize = all_df['overview']"
      ],
      "metadata": {
        "id": "_pD0j9ZgYrXn"
      },
      "id": "_pD0j9ZgYrXn",
      "execution_count": null,
      "outputs": []
    },
    {
      "cell_type": "code",
      "source": [
        "for i in range(len(all_df['overview'])):\n",
        "  tokenize[i] = tokenizer.nouns(text[i])"
      ],
      "metadata": {
        "id": "OjaMPaYMXYYv"
      },
      "id": "OjaMPaYMXYYv",
      "execution_count": null,
      "outputs": []
    },
    {
      "cell_type": "code",
      "source": [
        "all_df['overview'] = tokenize"
      ],
      "metadata": {
        "id": "wbOJ3rPxXP_j"
      },
      "id": "wbOJ3rPxXP_j",
      "execution_count": null,
      "outputs": []
    },
    {
      "cell_type": "code",
      "source": [
        "all_df.head(5)"
      ],
      "metadata": {
        "colab": {
          "base_uri": "https://localhost:8080/",
          "height": 206
        },
        "id": "H88ZWnKRXQCM",
        "outputId": "90763563-c667-42cd-ef50-09acfb44331c"
      },
      "id": "H88ZWnKRXQCM",
      "execution_count": null,
      "outputs": [
        {
          "output_type": "execute_result",
          "data": {
            "text/plain": [
              "            id                       img_path  \\\n",
              "0  TRAIN_00000  ./image/train/TRAIN_00000.jpg   \n",
              "1  TRAIN_00001  ./image/train/TRAIN_00001.jpg   \n",
              "2  TRAIN_00002  ./image/train/TRAIN_00002.jpg   \n",
              "3  TRAIN_00003  ./image/train/TRAIN_00003.jpg   \n",
              "4  TRAIN_00004  ./image/train/TRAIN_00004.jpg   \n",
              "\n",
              "                                            overview cat1    cat2   cat3  \n",
              "0  [소안항, 조용한, 인근해안, 청정해역, 양식, 소득, 바다낚시터, 유명, 항, 주...   자연   자연관광지  항구/포구  \n",
              "1  [경기, 이천시, 모가면, 골프장, 대중제, 18홀, 회원제, 개장, 2016년, ...  레포츠  육상 레포츠     골프  \n",
              "2  [금오산성숯불갈비, 한우고기만, 전문적, 취급, 사용, 부식, 자재, 유기농법, 재...   음식     음식점     한식  \n",
              "3  [철판, 위, 요리, 안동찜닭, 수, 곳, 경상북, 안동시, 식, 전문점, 대표메뉴...   음식     음식점     한식  \n",
              "4  [※, 영업시간, 10, 30, 20, 30, 3대, 아귀만, 전문, 취급, 전통,...   음식     음식점     한식  "
            ],
            "text/html": [
              "\n",
              "  <div id=\"df-66b9a424-b0da-47e6-9356-6c01706c37eb\">\n",
              "    <div class=\"colab-df-container\">\n",
              "      <div>\n",
              "<style scoped>\n",
              "    .dataframe tbody tr th:only-of-type {\n",
              "        vertical-align: middle;\n",
              "    }\n",
              "\n",
              "    .dataframe tbody tr th {\n",
              "        vertical-align: top;\n",
              "    }\n",
              "\n",
              "    .dataframe thead th {\n",
              "        text-align: right;\n",
              "    }\n",
              "</style>\n",
              "<table border=\"1\" class=\"dataframe\">\n",
              "  <thead>\n",
              "    <tr style=\"text-align: right;\">\n",
              "      <th></th>\n",
              "      <th>id</th>\n",
              "      <th>img_path</th>\n",
              "      <th>overview</th>\n",
              "      <th>cat1</th>\n",
              "      <th>cat2</th>\n",
              "      <th>cat3</th>\n",
              "    </tr>\n",
              "  </thead>\n",
              "  <tbody>\n",
              "    <tr>\n",
              "      <th>0</th>\n",
              "      <td>TRAIN_00000</td>\n",
              "      <td>./image/train/TRAIN_00000.jpg</td>\n",
              "      <td>[소안항, 조용한, 인근해안, 청정해역, 양식, 소득, 바다낚시터, 유명, 항, 주...</td>\n",
              "      <td>자연</td>\n",
              "      <td>자연관광지</td>\n",
              "      <td>항구/포구</td>\n",
              "    </tr>\n",
              "    <tr>\n",
              "      <th>1</th>\n",
              "      <td>TRAIN_00001</td>\n",
              "      <td>./image/train/TRAIN_00001.jpg</td>\n",
              "      <td>[경기, 이천시, 모가면, 골프장, 대중제, 18홀, 회원제, 개장, 2016년, ...</td>\n",
              "      <td>레포츠</td>\n",
              "      <td>육상 레포츠</td>\n",
              "      <td>골프</td>\n",
              "    </tr>\n",
              "    <tr>\n",
              "      <th>2</th>\n",
              "      <td>TRAIN_00002</td>\n",
              "      <td>./image/train/TRAIN_00002.jpg</td>\n",
              "      <td>[금오산성숯불갈비, 한우고기만, 전문적, 취급, 사용, 부식, 자재, 유기농법, 재...</td>\n",
              "      <td>음식</td>\n",
              "      <td>음식점</td>\n",
              "      <td>한식</td>\n",
              "    </tr>\n",
              "    <tr>\n",
              "      <th>3</th>\n",
              "      <td>TRAIN_00003</td>\n",
              "      <td>./image/train/TRAIN_00003.jpg</td>\n",
              "      <td>[철판, 위, 요리, 안동찜닭, 수, 곳, 경상북, 안동시, 식, 전문점, 대표메뉴...</td>\n",
              "      <td>음식</td>\n",
              "      <td>음식점</td>\n",
              "      <td>한식</td>\n",
              "    </tr>\n",
              "    <tr>\n",
              "      <th>4</th>\n",
              "      <td>TRAIN_00004</td>\n",
              "      <td>./image/train/TRAIN_00004.jpg</td>\n",
              "      <td>[※, 영업시간, 10, 30, 20, 30, 3대, 아귀만, 전문, 취급, 전통,...</td>\n",
              "      <td>음식</td>\n",
              "      <td>음식점</td>\n",
              "      <td>한식</td>\n",
              "    </tr>\n",
              "  </tbody>\n",
              "</table>\n",
              "</div>\n",
              "      <button class=\"colab-df-convert\" onclick=\"convertToInteractive('df-66b9a424-b0da-47e6-9356-6c01706c37eb')\"\n",
              "              title=\"Convert this dataframe to an interactive table.\"\n",
              "              style=\"display:none;\">\n",
              "        \n",
              "  <svg xmlns=\"http://www.w3.org/2000/svg\" height=\"24px\"viewBox=\"0 0 24 24\"\n",
              "       width=\"24px\">\n",
              "    <path d=\"M0 0h24v24H0V0z\" fill=\"none\"/>\n",
              "    <path d=\"M18.56 5.44l.94 2.06.94-2.06 2.06-.94-2.06-.94-.94-2.06-.94 2.06-2.06.94zm-11 1L8.5 8.5l.94-2.06 2.06-.94-2.06-.94L8.5 2.5l-.94 2.06-2.06.94zm10 10l.94 2.06.94-2.06 2.06-.94-2.06-.94-.94-2.06-.94 2.06-2.06.94z\"/><path d=\"M17.41 7.96l-1.37-1.37c-.4-.4-.92-.59-1.43-.59-.52 0-1.04.2-1.43.59L10.3 9.45l-7.72 7.72c-.78.78-.78 2.05 0 2.83L4 21.41c.39.39.9.59 1.41.59.51 0 1.02-.2 1.41-.59l7.78-7.78 2.81-2.81c.8-.78.8-2.07 0-2.86zM5.41 20L4 18.59l7.72-7.72 1.47 1.35L5.41 20z\"/>\n",
              "  </svg>\n",
              "      </button>\n",
              "      \n",
              "  <style>\n",
              "    .colab-df-container {\n",
              "      display:flex;\n",
              "      flex-wrap:wrap;\n",
              "      gap: 12px;\n",
              "    }\n",
              "\n",
              "    .colab-df-convert {\n",
              "      background-color: #E8F0FE;\n",
              "      border: none;\n",
              "      border-radius: 50%;\n",
              "      cursor: pointer;\n",
              "      display: none;\n",
              "      fill: #1967D2;\n",
              "      height: 32px;\n",
              "      padding: 0 0 0 0;\n",
              "      width: 32px;\n",
              "    }\n",
              "\n",
              "    .colab-df-convert:hover {\n",
              "      background-color: #E2EBFA;\n",
              "      box-shadow: 0px 1px 2px rgba(60, 64, 67, 0.3), 0px 1px 3px 1px rgba(60, 64, 67, 0.15);\n",
              "      fill: #174EA6;\n",
              "    }\n",
              "\n",
              "    [theme=dark] .colab-df-convert {\n",
              "      background-color: #3B4455;\n",
              "      fill: #D2E3FC;\n",
              "    }\n",
              "\n",
              "    [theme=dark] .colab-df-convert:hover {\n",
              "      background-color: #434B5C;\n",
              "      box-shadow: 0px 1px 3px 1px rgba(0, 0, 0, 0.15);\n",
              "      filter: drop-shadow(0px 1px 2px rgba(0, 0, 0, 0.3));\n",
              "      fill: #FFFFFF;\n",
              "    }\n",
              "  </style>\n",
              "\n",
              "      <script>\n",
              "        const buttonEl =\n",
              "          document.querySelector('#df-66b9a424-b0da-47e6-9356-6c01706c37eb button.colab-df-convert');\n",
              "        buttonEl.style.display =\n",
              "          google.colab.kernel.accessAllowed ? 'block' : 'none';\n",
              "\n",
              "        async function convertToInteractive(key) {\n",
              "          const element = document.querySelector('#df-66b9a424-b0da-47e6-9356-6c01706c37eb');\n",
              "          const dataTable =\n",
              "            await google.colab.kernel.invokeFunction('convertToInteractive',\n",
              "                                                     [key], {});\n",
              "          if (!dataTable) return;\n",
              "\n",
              "          const docLinkHtml = 'Like what you see? Visit the ' +\n",
              "            '<a target=\"_blank\" href=https://colab.research.google.com/notebooks/data_table.ipynb>data table notebook</a>'\n",
              "            + ' to learn more about interactive tables.';\n",
              "          element.innerHTML = '';\n",
              "          dataTable['output_type'] = 'display_data';\n",
              "          await google.colab.output.renderOutput(dataTable, element);\n",
              "          const docLink = document.createElement('div');\n",
              "          docLink.innerHTML = docLinkHtml;\n",
              "          element.appendChild(docLink);\n",
              "        }\n",
              "      </script>\n",
              "    </div>\n",
              "  </div>\n",
              "  "
            ]
          },
          "metadata": {},
          "execution_count": 21
        }
      ]
    },
    {
      "cell_type": "code",
      "source": [
        "all_df.to_csv('./train_v1.csv', index=False)"
      ],
      "metadata": {
        "id": "Sxb8FtYvWYe4"
      },
      "id": "Sxb8FtYvWYe4",
      "execution_count": null,
      "outputs": []
    },
    {
      "cell_type": "markdown",
      "source": [
        "Train/Validation Split"
      ],
      "metadata": {
        "id": "u5OYJBzvPsqR"
      },
      "id": "u5OYJBzvPsqR"
    },
    {
      "cell_type": "code",
      "execution_count": null,
      "metadata": {
        "id": "EcTB0OXYYqcB"
      },
      "outputs": [],
      "source": [
        "train_df, val_df, _, _ = train_test_split(all_df, all_df['cat3'], test_size=0.2, random_state=CFG['SEED'])\n",
        "# train set, validation set 구별"
      ],
      "id": "EcTB0OXYYqcB"
    },
    {
      "cell_type": "code",
      "source": [
        "train_df"
      ],
      "metadata": {
        "id": "sxXj4nA5WUVq",
        "colab": {
          "base_uri": "https://localhost:8080/",
          "height": 641
        },
        "outputId": "f5d265f2-5f30-47cf-cb1a-2c46542dc697"
      },
      "id": "sxXj4nA5WUVq",
      "execution_count": null,
      "outputs": [
        {
          "output_type": "execute_result",
          "data": {
            "text/plain": [
              "                id                       img_path  \\\n",
              "1786   TRAIN_01786  ./image/train/TRAIN_01786.jpg   \n",
              "16670  TRAIN_16670  ./image/train/TRAIN_16670.jpg   \n",
              "3377   TRAIN_03377  ./image/train/TRAIN_03377.jpg   \n",
              "12814  TRAIN_12814  ./image/train/TRAIN_12814.jpg   \n",
              "2607   TRAIN_02607  ./image/train/TRAIN_02607.jpg   \n",
              "...            ...                            ...   \n",
              "6819   TRAIN_06819  ./image/train/TRAIN_06819.jpg   \n",
              "15829  TRAIN_15829  ./image/train/TRAIN_15829.jpg   \n",
              "8513   TRAIN_08513  ./image/train/TRAIN_08513.jpg   \n",
              "931    TRAIN_00931  ./image/train/TRAIN_00931.jpg   \n",
              "1984   TRAIN_01984  ./image/train/TRAIN_01984.jpg   \n",
              "\n",
              "                                                overview          cat1  \\\n",
              "1786   [함평양서파충류생태공원, 남, 함평군, 광, 자리, 공원, 내, 양서류, 비롯, 파...  인문(문화/예술/역사)   \n",
              "16670  [국제수변레포츠, 내, 위치한, 충주, 탄금호, 캠핑, 리조트, 다양, 문화체험, ...           레포츠   \n",
              "3377   [경남, 함양군, 서하면, 위치한, 함양, 라온캠핑장, 마운틴뷰, 조용, 깨끗, 신...           레포츠   \n",
              "12814  [캠프바베큐, 충남, 천안시, 동남구, 자리, 천안시청, 기점, 약, 8㎞가량, 자...           레포츠   \n",
              "2607   [원수산습지생태원, 세종시, 연기, 세종리, 생태원, 내, 보존습지, 수생식물습지,...            자연   \n",
              "...                                                  ...           ...   \n",
              "6819       [밤바다, 야경, 위, 데크, 산책로, 바다, 위, 조성, 742m, 해변산책로]  인문(문화/예술/역사)   \n",
              "15829  [남해비치텔, 한려해상, 국립공원, 중심지역, 남해, 설천면, 노량리, 위치해, 이...            숙박   \n",
              "8513   [장경리해변, 자갈모래, 형성, 해변, 백사장, 길, 1.5km, 정도, 백사장, ...            자연   \n",
              "931    [서울, 종로, 자리한, 낙원떡집은, ‘서울미래유산’으로, 선정, 만큼, 역사, 전...            음식   \n",
              "1984   [전통적, 조리법, 진지상, 죽, 물김치, 시작, 구절판, 탕평채,, 해파리냉채, ...            음식   \n",
              "\n",
              "         cat2       cat3  \n",
              "1786     문화시설        박물관  \n",
              "16670  육상 레포츠  야영장,오토캠핑장  \n",
              "3377   육상 레포츠  야영장,오토캠핑장  \n",
              "12814  육상 레포츠  야영장,오토캠핑장  \n",
              "2607    자연관광지    자연생태관광지  \n",
              "...       ...        ...  \n",
              "6819   건축/조형물      다리/대교  \n",
              "15829    숙박시설         모텔  \n",
              "8513    자연관광지       해수욕장  \n",
              "931       음식점         한식  \n",
              "1984      음식점         한식  \n",
              "\n",
              "[13588 rows x 6 columns]"
            ],
            "text/html": [
              "\n",
              "  <div id=\"df-8a3ed9a8-e95d-47f1-8c65-f32b878bba06\">\n",
              "    <div class=\"colab-df-container\">\n",
              "      <div>\n",
              "<style scoped>\n",
              "    .dataframe tbody tr th:only-of-type {\n",
              "        vertical-align: middle;\n",
              "    }\n",
              "\n",
              "    .dataframe tbody tr th {\n",
              "        vertical-align: top;\n",
              "    }\n",
              "\n",
              "    .dataframe thead th {\n",
              "        text-align: right;\n",
              "    }\n",
              "</style>\n",
              "<table border=\"1\" class=\"dataframe\">\n",
              "  <thead>\n",
              "    <tr style=\"text-align: right;\">\n",
              "      <th></th>\n",
              "      <th>id</th>\n",
              "      <th>img_path</th>\n",
              "      <th>overview</th>\n",
              "      <th>cat1</th>\n",
              "      <th>cat2</th>\n",
              "      <th>cat3</th>\n",
              "    </tr>\n",
              "  </thead>\n",
              "  <tbody>\n",
              "    <tr>\n",
              "      <th>1786</th>\n",
              "      <td>TRAIN_01786</td>\n",
              "      <td>./image/train/TRAIN_01786.jpg</td>\n",
              "      <td>[함평양서파충류생태공원, 남, 함평군, 광, 자리, 공원, 내, 양서류, 비롯, 파...</td>\n",
              "      <td>인문(문화/예술/역사)</td>\n",
              "      <td>문화시설</td>\n",
              "      <td>박물관</td>\n",
              "    </tr>\n",
              "    <tr>\n",
              "      <th>16670</th>\n",
              "      <td>TRAIN_16670</td>\n",
              "      <td>./image/train/TRAIN_16670.jpg</td>\n",
              "      <td>[국제수변레포츠, 내, 위치한, 충주, 탄금호, 캠핑, 리조트, 다양, 문화체험, ...</td>\n",
              "      <td>레포츠</td>\n",
              "      <td>육상 레포츠</td>\n",
              "      <td>야영장,오토캠핑장</td>\n",
              "    </tr>\n",
              "    <tr>\n",
              "      <th>3377</th>\n",
              "      <td>TRAIN_03377</td>\n",
              "      <td>./image/train/TRAIN_03377.jpg</td>\n",
              "      <td>[경남, 함양군, 서하면, 위치한, 함양, 라온캠핑장, 마운틴뷰, 조용, 깨끗, 신...</td>\n",
              "      <td>레포츠</td>\n",
              "      <td>육상 레포츠</td>\n",
              "      <td>야영장,오토캠핑장</td>\n",
              "    </tr>\n",
              "    <tr>\n",
              "      <th>12814</th>\n",
              "      <td>TRAIN_12814</td>\n",
              "      <td>./image/train/TRAIN_12814.jpg</td>\n",
              "      <td>[캠프바베큐, 충남, 천안시, 동남구, 자리, 천안시청, 기점, 약, 8㎞가량, 자...</td>\n",
              "      <td>레포츠</td>\n",
              "      <td>육상 레포츠</td>\n",
              "      <td>야영장,오토캠핑장</td>\n",
              "    </tr>\n",
              "    <tr>\n",
              "      <th>2607</th>\n",
              "      <td>TRAIN_02607</td>\n",
              "      <td>./image/train/TRAIN_02607.jpg</td>\n",
              "      <td>[원수산습지생태원, 세종시, 연기, 세종리, 생태원, 내, 보존습지, 수생식물습지,...</td>\n",
              "      <td>자연</td>\n",
              "      <td>자연관광지</td>\n",
              "      <td>자연생태관광지</td>\n",
              "    </tr>\n",
              "    <tr>\n",
              "      <th>...</th>\n",
              "      <td>...</td>\n",
              "      <td>...</td>\n",
              "      <td>...</td>\n",
              "      <td>...</td>\n",
              "      <td>...</td>\n",
              "      <td>...</td>\n",
              "    </tr>\n",
              "    <tr>\n",
              "      <th>6819</th>\n",
              "      <td>TRAIN_06819</td>\n",
              "      <td>./image/train/TRAIN_06819.jpg</td>\n",
              "      <td>[밤바다, 야경, 위, 데크, 산책로, 바다, 위, 조성, 742m, 해변산책로]</td>\n",
              "      <td>인문(문화/예술/역사)</td>\n",
              "      <td>건축/조형물</td>\n",
              "      <td>다리/대교</td>\n",
              "    </tr>\n",
              "    <tr>\n",
              "      <th>15829</th>\n",
              "      <td>TRAIN_15829</td>\n",
              "      <td>./image/train/TRAIN_15829.jpg</td>\n",
              "      <td>[남해비치텔, 한려해상, 국립공원, 중심지역, 남해, 설천면, 노량리, 위치해, 이...</td>\n",
              "      <td>숙박</td>\n",
              "      <td>숙박시설</td>\n",
              "      <td>모텔</td>\n",
              "    </tr>\n",
              "    <tr>\n",
              "      <th>8513</th>\n",
              "      <td>TRAIN_08513</td>\n",
              "      <td>./image/train/TRAIN_08513.jpg</td>\n",
              "      <td>[장경리해변, 자갈모래, 형성, 해변, 백사장, 길, 1.5km, 정도, 백사장, ...</td>\n",
              "      <td>자연</td>\n",
              "      <td>자연관광지</td>\n",
              "      <td>해수욕장</td>\n",
              "    </tr>\n",
              "    <tr>\n",
              "      <th>931</th>\n",
              "      <td>TRAIN_00931</td>\n",
              "      <td>./image/train/TRAIN_00931.jpg</td>\n",
              "      <td>[서울, 종로, 자리한, 낙원떡집은, ‘서울미래유산’으로, 선정, 만큼, 역사, 전...</td>\n",
              "      <td>음식</td>\n",
              "      <td>음식점</td>\n",
              "      <td>한식</td>\n",
              "    </tr>\n",
              "    <tr>\n",
              "      <th>1984</th>\n",
              "      <td>TRAIN_01984</td>\n",
              "      <td>./image/train/TRAIN_01984.jpg</td>\n",
              "      <td>[전통적, 조리법, 진지상, 죽, 물김치, 시작, 구절판, 탕평채,, 해파리냉채, ...</td>\n",
              "      <td>음식</td>\n",
              "      <td>음식점</td>\n",
              "      <td>한식</td>\n",
              "    </tr>\n",
              "  </tbody>\n",
              "</table>\n",
              "<p>13588 rows × 6 columns</p>\n",
              "</div>\n",
              "      <button class=\"colab-df-convert\" onclick=\"convertToInteractive('df-8a3ed9a8-e95d-47f1-8c65-f32b878bba06')\"\n",
              "              title=\"Convert this dataframe to an interactive table.\"\n",
              "              style=\"display:none;\">\n",
              "        \n",
              "  <svg xmlns=\"http://www.w3.org/2000/svg\" height=\"24px\"viewBox=\"0 0 24 24\"\n",
              "       width=\"24px\">\n",
              "    <path d=\"M0 0h24v24H0V0z\" fill=\"none\"/>\n",
              "    <path d=\"M18.56 5.44l.94 2.06.94-2.06 2.06-.94-2.06-.94-.94-2.06-.94 2.06-2.06.94zm-11 1L8.5 8.5l.94-2.06 2.06-.94-2.06-.94L8.5 2.5l-.94 2.06-2.06.94zm10 10l.94 2.06.94-2.06 2.06-.94-2.06-.94-.94-2.06-.94 2.06-2.06.94z\"/><path d=\"M17.41 7.96l-1.37-1.37c-.4-.4-.92-.59-1.43-.59-.52 0-1.04.2-1.43.59L10.3 9.45l-7.72 7.72c-.78.78-.78 2.05 0 2.83L4 21.41c.39.39.9.59 1.41.59.51 0 1.02-.2 1.41-.59l7.78-7.78 2.81-2.81c.8-.78.8-2.07 0-2.86zM5.41 20L4 18.59l7.72-7.72 1.47 1.35L5.41 20z\"/>\n",
              "  </svg>\n",
              "      </button>\n",
              "      \n",
              "  <style>\n",
              "    .colab-df-container {\n",
              "      display:flex;\n",
              "      flex-wrap:wrap;\n",
              "      gap: 12px;\n",
              "    }\n",
              "\n",
              "    .colab-df-convert {\n",
              "      background-color: #E8F0FE;\n",
              "      border: none;\n",
              "      border-radius: 50%;\n",
              "      cursor: pointer;\n",
              "      display: none;\n",
              "      fill: #1967D2;\n",
              "      height: 32px;\n",
              "      padding: 0 0 0 0;\n",
              "      width: 32px;\n",
              "    }\n",
              "\n",
              "    .colab-df-convert:hover {\n",
              "      background-color: #E2EBFA;\n",
              "      box-shadow: 0px 1px 2px rgba(60, 64, 67, 0.3), 0px 1px 3px 1px rgba(60, 64, 67, 0.15);\n",
              "      fill: #174EA6;\n",
              "    }\n",
              "\n",
              "    [theme=dark] .colab-df-convert {\n",
              "      background-color: #3B4455;\n",
              "      fill: #D2E3FC;\n",
              "    }\n",
              "\n",
              "    [theme=dark] .colab-df-convert:hover {\n",
              "      background-color: #434B5C;\n",
              "      box-shadow: 0px 1px 3px 1px rgba(0, 0, 0, 0.15);\n",
              "      filter: drop-shadow(0px 1px 2px rgba(0, 0, 0, 0.3));\n",
              "      fill: #FFFFFF;\n",
              "    }\n",
              "  </style>\n",
              "\n",
              "      <script>\n",
              "        const buttonEl =\n",
              "          document.querySelector('#df-8a3ed9a8-e95d-47f1-8c65-f32b878bba06 button.colab-df-convert');\n",
              "        buttonEl.style.display =\n",
              "          google.colab.kernel.accessAllowed ? 'block' : 'none';\n",
              "\n",
              "        async function convertToInteractive(key) {\n",
              "          const element = document.querySelector('#df-8a3ed9a8-e95d-47f1-8c65-f32b878bba06');\n",
              "          const dataTable =\n",
              "            await google.colab.kernel.invokeFunction('convertToInteractive',\n",
              "                                                     [key], {});\n",
              "          if (!dataTable) return;\n",
              "\n",
              "          const docLinkHtml = 'Like what you see? Visit the ' +\n",
              "            '<a target=\"_blank\" href=https://colab.research.google.com/notebooks/data_table.ipynb>data table notebook</a>'\n",
              "            + ' to learn more about interactive tables.';\n",
              "          element.innerHTML = '';\n",
              "          dataTable['output_type'] = 'display_data';\n",
              "          await google.colab.output.renderOutput(dataTable, element);\n",
              "          const docLink = document.createElement('div');\n",
              "          docLink.innerHTML = docLinkHtml;\n",
              "          element.appendChild(docLink);\n",
              "        }\n",
              "      </script>\n",
              "    </div>\n",
              "  </div>\n",
              "  "
            ]
          },
          "metadata": {},
          "execution_count": 24
        }
      ]
    },
    {
      "cell_type": "code",
      "source": [
        "train_df.isnull().sum()"
      ],
      "metadata": {
        "id": "WfhT14IjJAh0",
        "colab": {
          "base_uri": "https://localhost:8080/"
        },
        "outputId": "f4ae84c2-615f-4aa9-c4e7-610059fcdb0f"
      },
      "id": "WfhT14IjJAh0",
      "execution_count": null,
      "outputs": [
        {
          "output_type": "execute_result",
          "data": {
            "text/plain": [
              "id          0\n",
              "img_path    0\n",
              "overview    0\n",
              "cat1        0\n",
              "cat2        0\n",
              "cat3        0\n",
              "dtype: int64"
            ]
          },
          "metadata": {},
          "execution_count": 25
        }
      ]
    },
    {
      "cell_type": "code",
      "source": [
        "val_df.isnull().sum()"
      ],
      "metadata": {
        "id": "Kv_-o9WvhyUk",
        "colab": {
          "base_uri": "https://localhost:8080/"
        },
        "outputId": "8ba33435-415c-4006-a9f1-7cfaafd25b2e"
      },
      "id": "Kv_-o9WvhyUk",
      "execution_count": null,
      "outputs": [
        {
          "output_type": "execute_result",
          "data": {
            "text/plain": [
              "id          0\n",
              "img_path    0\n",
              "overview    0\n",
              "cat1        0\n",
              "cat2        0\n",
              "cat3        0\n",
              "dtype: int64"
            ]
          },
          "metadata": {},
          "execution_count": 26
        }
      ]
    },
    {
      "cell_type": "code",
      "source": [
        "target_check = np.unique(train_df['cat3'], return_counts=True)"
      ],
      "metadata": {
        "id": "PNDJl962l6-d"
      },
      "id": "PNDJl962l6-d",
      "execution_count": null,
      "outputs": []
    },
    {
      "cell_type": "markdown",
      "source": [
        "Target의 종류와 분포 확인"
      ],
      "metadata": {
        "id": "BMEpaSQchBSN"
      },
      "id": "BMEpaSQchBSN"
    },
    {
      "cell_type": "code",
      "source": [
        "for i in range(len(target_check[0])):\n",
        "  print((i+1),\". \",target_check[0][i],target_check[1][i])"
      ],
      "metadata": {
        "id": "jU8qNcPWoB4O",
        "colab": {
          "base_uri": "https://localhost:8080/"
        },
        "outputId": "a6e9a0c8-4a48-4b46-ad0f-05083377c620"
      },
      "id": "jU8qNcPWoB4O",
      "execution_count": null,
      "outputs": [
        {
          "output_type": "stream",
          "name": "stdout",
          "text": [
            "1 .  5일장 130\n",
            "2 .  ATV 3\n",
            "3 .  MTB 1\n",
            "4 .  강 90\n",
            "5 .  게스트하우스 69\n",
            "6 .  계곡 133\n",
            "7 .  고궁 33\n",
            "8 .  고택 75\n",
            "9 .  골프 149\n",
            "10 .  공연장 84\n",
            "11 .  공예,공방 32\n",
            "12 .  공원 214\n",
            "13 .  관광단지 98\n",
            "14 .  국립공원 16\n",
            "15 .  군립공원 9\n",
            "16 .  기념관 45\n",
            "17 .  기념탑/기념비/전망대 123\n",
            "18 .  기암괴석 43\n",
            "19 .  기타 69\n",
            "20 .  기타행사 61\n",
            "21 .  농.산.어촌 체험 255\n",
            "22 .  다리/대교 30\n",
            "23 .  대중콘서트 2\n",
            "24 .  대형서점 14\n",
            "25 .  도립공원 12\n",
            "26 .  도서관 74\n",
            "27 .  동굴 19\n",
            "28 .  동상 14\n",
            "29 .  등대 17\n",
            "30 .  래프팅 14\n",
            "31 .  면세점 4\n",
            "32 .  모텔 270\n",
            "33 .  문 18\n",
            "34 .  문화관광축제 18\n",
            "35 .  문화원 90\n",
            "36 .  문화전수시설 19\n",
            "37 .  뮤지컬 2\n",
            "38 .  미술관/화랑 163\n",
            "39 .  민물낚시 93\n",
            "40 .  민박 34\n",
            "41 .  민속마을 59\n",
            "42 .  바/까페 627\n",
            "43 .  바다낚시 44\n",
            "44 .  박람회 24\n",
            "45 .  박물관 254\n",
            "46 .  발전소 4\n",
            "47 .  백화점 2\n",
            "48 .  번지점프 3\n",
            "49 .  복합 레포츠 19\n",
            "50 .  분수 8\n",
            "51 .  빙벽등반 3\n",
            "52 .  사격장 9\n",
            "53 .  사찰 378\n",
            "54 .  산 190\n",
            "55 .  상설시장 221\n",
            "56 .  생가 34\n",
            "57 .  서비스드레지던스 8\n",
            "58 .  서양식 188\n",
            "59 .  섬 93\n",
            "60 .  성 67\n",
            "61 .  수련시설 80\n",
            "62 .  수목원 73\n",
            "63 .  수상레포츠 9\n",
            "64 .  수영 25\n",
            "65 .  스노쿨링/스킨스쿠버다이빙 7\n",
            "66 .  스카이다이빙 2\n",
            "67 .  스케이트 10\n",
            "68 .  스키(보드) 렌탈샵 51\n",
            "69 .  스키/스노보드 5\n",
            "70 .  승마 18\n",
            "71 .  식음료 9\n",
            "72 .  썰매장 25\n",
            "73 .  안보관광 29\n",
            "74 .  야영장,오토캠핑장 1251\n",
            "75 .  약수터 15\n",
            "76 .  연극 4\n",
            "77 .  영화관 4\n",
            "78 .  온천/욕장/스파 39\n",
            "79 .  외국문화원 7\n",
            "80 .  요트 9\n",
            "81 .  윈드서핑/제트스키 24\n",
            "82 .  유람선/잠수함관광 24\n",
            "83 .  유명건물 83\n",
            "84 .  유스호스텔 17\n",
            "85 .  유원지 168\n",
            "86 .  유적지/사적지 491\n",
            "87 .  이색거리 371\n",
            "88 .  이색찜질방 9\n",
            "89 .  이색체험 4\n",
            "90 .  인라인(실내 인라인 포함) 2\n",
            "91 .  일반축제 442\n",
            "92 .  일식 119\n",
            "93 .  자동차경주 28\n",
            "94 .  자연생태관광지 159\n",
            "95 .  자연휴양림 89\n",
            "96 .  자전거하이킹 12\n",
            "97 .  전문상가 145\n",
            "98 .  전시관 181\n",
            "99 .  전통공연 4\n",
            "100 .  종교성지 50\n",
            "101 .  중식 155\n",
            "102 .  채식전문점 26\n",
            "103 .  카약/카누 10\n",
            "104 .  카지노 2\n",
            "105 .  카트 6\n",
            "106 .  컨벤션 21\n",
            "107 .  컨벤션센터 9\n",
            "108 .  콘도미니엄 31\n",
            "109 .  클래식음악회 1\n",
            "110 .  클럽 5\n",
            "111 .  터널 7\n",
            "112 .  테마공원 146\n",
            "113 .  트래킹 196\n",
            "114 .  특산물판매점 28\n",
            "115 .  패밀리레스토랑 49\n",
            "116 .  펜션 344\n",
            "117 .  폭포 28\n",
            "118 .  학교 6\n",
            "119 .  한식 2768\n",
            "120 .  한옥스테이 321\n",
            "121 .  항구/포구 105\n",
            "122 .  해수욕장 172\n",
            "123 .  해안절경 19\n",
            "124 .  헬스투어 14\n",
            "125 .  헹글라이딩/패러글라이딩 9\n",
            "126 .  호수 25\n",
            "127 .  홈스테이 44\n",
            "128 .  희귀동.식물 73\n"
          ]
        }
      ]
    },
    {
      "cell_type": "markdown",
      "metadata": {
        "id": "3SepiZ4ZYqcB"
      },
      "source": [
        "## Label-Encoding"
      ],
      "id": "3SepiZ4ZYqcB"
    },
    {
      "cell_type": "code",
      "execution_count": null,
      "metadata": {
        "id": "D7cJtPy8YqcB",
        "colab": {
          "base_uri": "https://localhost:8080/"
        },
        "outputId": "318aab2b-8c8c-4413-ba93-f54146c5f89d"
      },
      "outputs": [
        {
          "output_type": "execute_result",
          "data": {
            "text/plain": [
              "LabelEncoder()"
            ]
          },
          "metadata": {},
          "execution_count": 29
        }
      ],
      "source": [
        "le = preprocessing.LabelEncoder()\n",
        "le.fit(train_df['cat3'].values)\n",
        "# 카테고리형 데이터를 수치형으로 변환하는 labelencoder"
      ],
      "id": "D7cJtPy8YqcB"
    },
    {
      "cell_type": "code",
      "execution_count": null,
      "metadata": {
        "id": "DWmb25r_YqcC"
      },
      "outputs": [],
      "source": [
        "train_df['cat3'] = le.transform(train_df['cat3'].values)\n",
        "val_df['cat3'] = le.transform(val_df['cat3'].values)\n",
        "# cat3에 labelencoder를 적용하기"
      ],
      "id": "DWmb25r_YqcC"
    },
    {
      "cell_type": "markdown",
      "metadata": {
        "id": "OkIwC6lBYqcD"
      },
      "source": [
        "## Vectorizer"
      ],
      "id": "OkIwC6lBYqcD"
    },
    {
      "cell_type": "code",
      "execution_count": null,
      "metadata": {
        "id": "RTlinSBbYqcD"
      },
      "outputs": [],
      "source": [
        "vectorizer = CountVectorizer(analyzer=lambda x: x)\n",
        "# overview를 vectorize하는 vectorizer 선언, 최대 특성 수는 4096"
      ],
      "id": "RTlinSBbYqcD"
    },
    {
      "cell_type": "code",
      "execution_count": null,
      "metadata": {
        "id": "FgdPdmIbYqcD"
      },
      "outputs": [],
      "source": [
        "train_vectors = vectorizer.fit_transform(train_df['overview'])\n",
        "train_vectors = train_vectors.todense()\n",
        "\n",
        "val_vectors = vectorizer.transform(val_df['overview'])\n",
        "val_vectors = val_vectors.todense()"
      ],
      "id": "FgdPdmIbYqcD"
    },
    {
      "cell_type": "code",
      "execution_count": null,
      "metadata": {
        "id": "0mSQ4CZrYqcE"
      },
      "outputs": [],
      "source": [
        "train_vectors.shape"
      ],
      "id": "0mSQ4CZrYqcE"
    },
    {
      "cell_type": "code",
      "execution_count": null,
      "metadata": {
        "id": "GWoFexU4YqcE"
      },
      "outputs": [],
      "source": [
        "val_vectors.shape"
      ],
      "id": "GWoFexU4YqcE"
    },
    {
      "cell_type": "markdown",
      "metadata": {
        "id": "P3xNr-gCYqcE"
      },
      "source": [
        "## CustomDataset"
      ],
      "id": "P3xNr-gCYqcE"
    },
    {
      "cell_type": "code",
      "execution_count": null,
      "metadata": {
        "id": "gWjyLPMDYqcE"
      },
      "outputs": [],
      "source": [
        "# Dataset 생성\n",
        "class CustomDataset(Dataset):\n",
        "    def __init__(self, img_path_list, text_vectors, label_list, transforms, infer=False):\n",
        "        self.img_path_list = img_path_list\n",
        "        self.text_vectors = text_vectors\n",
        "        self.label_list = label_list\n",
        "        self.transforms = transforms\n",
        "        self.infer = infer\n",
        "        \n",
        "    def __getitem__(self, index):\n",
        "        # NLP\n",
        "        text_vector = self.text_vectors[index]\n",
        "        \n",
        "        # Image 읽기\n",
        "        img_path = self.img_path_list[index]\n",
        "        image = cv2.imread(img_path)\n",
        "        \n",
        "        if self.transforms is not None:\n",
        "            image = self.transforms(image=image)['image'] # transforms(=image augmentation) 적용\n",
        "        \n",
        "        # Label\n",
        "        if self.infer: # infer == True, test_data로부터 label \"결과 추출\" 시 사용\n",
        "            return image, torch.Tensor(text_vector).view(-1)\n",
        "        else: # infer == False\n",
        "            label = self.label_list[index] # dataframe에서 label 가져와 \"학습\" 시 사용\n",
        "            return image, torch.Tensor(text_vector).view(-1), label\n",
        "        \n",
        "    def __len__(self):\n",
        "        return len(self.img_path_list)"
      ],
      "id": "gWjyLPMDYqcE"
    },
    {
      "cell_type": "code",
      "execution_count": null,
      "metadata": {
        "id": "JrdLk7BvYqcF"
      },
      "outputs": [],
      "source": [
        "train_transform = A.Compose([\n",
        "                            A.Resize(CFG['IMG_SIZE'],CFG['IMG_SIZE']),\n",
        "                            A.Normalize(mean=(0.485, 0.456, 0.406), std=(0.229, 0.224, 0.225), max_pixel_value=255.0, always_apply=False, p=1.0),\n",
        "                            ToTensorV2()\n",
        "                            ])\n",
        "\n",
        "test_transform = A.Compose([\n",
        "                            A.Resize(CFG['IMG_SIZE'],CFG['IMG_SIZE']),\n",
        "                            A.Normalize(mean=(0.485, 0.456, 0.406), std=(0.229, 0.224, 0.225), max_pixel_value=255.0, always_apply=False, p=1.0),\n",
        "                            ToTensorV2()\n",
        "                            ])"
      ],
      "id": "JrdLk7BvYqcF"
    },
    {
      "cell_type": "markdown",
      "metadata": {
        "id": "W6mw3pJXYqcF"
      },
      "source": [
        "- albumentations -> fast image augmentation library\n",
        "\n",
        "- albumentations.Compose -> transform = A.Compose([])을 이용하여 이미지와 라벨 각각에 Augmentation을 적용하기 위한 객체를 생성\n",
        "\n",
        "- albumentations.Resize(128, 128) -> 128*128 size로 resize\n",
        "- albumentations.Normalize() -> 입력 받은 이미지 값의 범위를 (0, 255) → (-1, 1) 범위로 줄여주는 역할, 위에서는 평균값, 분산값, 최대 픽셀값으로 img = (img - mean * max_pixel_value) / (std * max_pixel_value)을 계산.\n",
        "- ToTensorV2 -> tensor형 변환"
      ],
      "id": "W6mw3pJXYqcF"
    },
    {
      "cell_type": "code",
      "execution_count": null,
      "metadata": {
        "id": "28lLznspYqcF"
      },
      "outputs": [],
      "source": [
        "# __init__(self, img_path_list, text_vectors, label_list, transforms, infer=False)\n",
        "train_dataset = CustomDataset(train_df['img_path'].values, train_vectors, train_df['cat3'].values, train_transform)\n",
        "train_loader = DataLoader(train_dataset, batch_size = CFG['BATCH_SIZE'], shuffle=True, num_workers=0) # 6\n",
        "\n",
        "val_dataset = CustomDataset(val_df['img_path'].values, val_vectors, val_df['cat3'].values, test_transform)\n",
        "val_loader = DataLoader(val_dataset, batch_size=CFG['BATCH_SIZE'], shuffle=False, num_workers=0) # 6"
      ],
      "id": "28lLznspYqcF"
    },
    {
      "cell_type": "markdown",
      "metadata": {
        "id": "AjwCGRhnYqcG"
      },
      "source": [
        "- DataLoader: Dataset와 Sampler를 결합하고 지정된 데이터 세트에 대해 반복 가능한 기능을 제공.    \n",
        "    - dataset (Dataset): 데이터를 로드할 데이터 집합.   \n",
        "    - batch_size (int, optional): **how many samples** per batch to load (default: ``1``).   \n",
        "    - num_workers (int, optional): **how many subprocesses** to use for data loading. ``0`` means that the data will be    loaded in the main process. (default: ``0``) -> 6으로 설정 시 안돌아감([Errno 32] Broken pipe). 0으로 변경해야 됨"
      ],
      "id": "AjwCGRhnYqcG"
    },
    {
      "cell_type": "markdown",
      "metadata": {
        "id": "OOBrsD0nYqcG"
      },
      "source": [
        "## Model Define"
      ],
      "id": "OOBrsD0nYqcG"
    },
    {
      "cell_type": "code",
      "execution_count": null,
      "metadata": {
        "id": "O_hoH59gYqcG"
      },
      "outputs": [],
      "source": [
        "class CustomModel(nn.Module):\n",
        "    def __init__(self, num_classes=len(le.classes_)):\n",
        "        super(CustomModel, self).__init__()\n",
        "        # Image\n",
        "        self.cnn_extract = nn.Sequential(\n",
        "            nn.Conv2d(3, 8, kernel_size=3, stride=1, padding=1),\n",
        "                # input_channel = 3 : RGB 3개의 채널이기 때문\n",
        "                # out_channel = 8 : 출력하는 채널 8개\n",
        "                # stride = 1 : stride 만큼 이미지 이동하면서 cnn 수행\n",
        "                # padding = 1 : zero-padding할 사이즈\n",
        "            nn.ReLU(), # 사용할 활성화 함수: Relu를 사용\n",
        "            nn.MaxPool2d(kernel_size=2, stride=2), # 최댓값을 뽑아내는 맥스 풀링\n",
        "            nn.Conv2d(8, 16, kernel_size=3, stride=1, padding=1),\n",
        "            nn.ReLU(),\n",
        "            nn.MaxPool2d(kernel_size=2, stride=2),\n",
        "            nn.Conv2d(16, 32, kernel_size=3, stride=1, padding=1),\n",
        "            nn.ReLU(),\n",
        "            nn.MaxPool2d(kernel_size=2, stride=2),\n",
        "            nn.Conv2d(32, 64, kernel_size=4, stride=1, padding=1),\n",
        "            nn.ReLU(),\n",
        "            nn.MaxPool2d(kernel_size=2, stride=2)\n",
        "        )\n",
        "        # Text\n",
        "        self.nlp_extract = nn.Sequential(\n",
        "            nn.Linear(4096, 2048), # 선형회귀. 4096개의 입력으로 2048개의 출력\n",
        "            nn.ReLU(),\n",
        "            nn.Linear(2048, 1024), # 선형회귀. 2048개의 입력으로 1024개의 출력\n",
        "        )\n",
        "        # Classifier\n",
        "        self.classifier = nn.Sequential(\n",
        "            nn.Linear(4160, num_classes)\n",
        "            # 선형회귀. 4160개의 입력으로 num_classes, 즉 cat3의 종류 개수만큼의 출력\n",
        "            # 근데 왜 4160개? \"4160 - 1024 = 3136\"이고 \"3136 / 64 = 49\". 즉 이미지는 \"7*7*64\"로 출력됨.\n",
        "        )\n",
        "            \n",
        "\n",
        "    def forward(self, img, text):\n",
        "        img_feature = self.cnn_extract(img) # cnn_extract 적용\n",
        "        img_feature = torch.flatten(img_feature, start_dim=1) # 1차원으로 변환\n",
        "        text_feature = self.nlp_extract(text) # nlp_extract 적용\n",
        "        feature = torch.cat([img_feature, text_feature], axis=1) # 2개 연결(3136 + 1024)\n",
        "        output = self.classifier(feature) # classifier 적용\n",
        "        return output"
      ],
      "id": "O_hoH59gYqcG"
    },
    {
      "cell_type": "markdown",
      "metadata": {
        "id": "TajLAFGWYqcG"
      },
      "source": [
        "결론:\n",
        "- Image: conv -> ReLU -> MaxPooling -> conv -> relu -> maxpooling -> conv -> relu -> maxpooling -> conv -> relu -> maxpooling\n",
        "\n",
        "- Text: linear -> relu -> linear\n",
        "\n",
        "- classifier : linear"
      ],
      "id": "TajLAFGWYqcG"
    },
    {
      "cell_type": "markdown",
      "metadata": {
        "id": "9NWkAbI2YqcG"
      },
      "source": [
        "## Train"
      ],
      "id": "9NWkAbI2YqcG"
    },
    {
      "cell_type": "code",
      "execution_count": null,
      "metadata": {
        "id": "Q4SIuzRRYqcG"
      },
      "outputs": [],
      "source": [
        "def train(model, optimizer, train_loader, val_loader, scheduler, device):\n",
        "    model.to(device) # gpu(cpu)에 적용\n",
        "\n",
        "    criterion = nn.CrossEntropyLoss().to(device) # CrossEntropyLoss: 다중분류를 위한 손실함수\n",
        "    best_score = 0\n",
        "    best_model = None # 최고의 모델을 추출하기 위한 파라미터\n",
        "    \n",
        "    for epoch in range(1,CFG[\"EPOCHS\"]+1):\n",
        "        model.train() # 학습시킴.\n",
        "        train_loss = []\n",
        "        for img, text, label in tqdm(iter(train_loader)): # train_loader에서 img, text, label 가져옴\n",
        "            img = img.float().to(device)\n",
        "            text = text.to(device)\n",
        "            label = label.type(torch.LongTensor) # label type을 LongTensor로 형변환, 추가하여 에러 해결\n",
        "            label = label.to(device)\n",
        "            \n",
        "            optimizer.zero_grad() # 이전 루프에서 .grad에 저장된 값이 다음 루프의 업데이트에도 간섭하는 걸 방지, 0으로 초기화\n",
        "\n",
        "            model_pred = model(img, text) # 예측\n",
        "            \n",
        "            loss = criterion(model_pred, label) # 예측값과 실제값과의 손실 계산\n",
        "\n",
        "            loss.backward() # .backward() 를 호출하면 역전파가 시작\n",
        "            optimizer.step() # optimizer.step()을 호출하여 역전파 단계에서 수집된 변화도로 매개변수를 조정\n",
        "\n",
        "            train_loss.append(loss.item())\n",
        "            \n",
        "        # 모든 train_loss 가져옴\n",
        "        tr_loss = np.mean(train_loss)\n",
        "            \n",
        "        val_loss, val_score = validation(model, criterion, val_loader, device) # 검증 시작, 여기서 validation 함수 사용\n",
        "            \n",
        "        print(f'Epoch [{epoch}], Train Loss : [{tr_loss:.5f}] Val Loss : [{val_loss:.5f}] Val Score : [{val_score:.5f}]')\n",
        "        \n",
        "        if scheduler is not None:\n",
        "            scheduler.step()\n",
        "            # scheduler의 의미: Learning Rate Scheduler => learning rate를 조절한다. \n",
        "            # DACON에서는 CosineAnnealingLR 또는 CosineAnnealingWarmRestarts 를 주로 사용한다.\n",
        "            \n",
        "        if best_score < val_score: # 최고의 val_score을 가진 모델에 대해서만 최종적용을 시킴\n",
        "            best_score = val_score\n",
        "            best_model = model\n",
        "    \n",
        "    return best_model # val_score가 가장 높은 모델을 출력"
      ],
      "id": "Q4SIuzRRYqcG"
    },
    {
      "cell_type": "code",
      "execution_count": null,
      "metadata": {
        "id": "ZDH3nVsTYqcH"
      },
      "outputs": [],
      "source": [
        "def score_function(real, pred):\n",
        "    return f1_score(real, pred, average=\"weighted\")\n",
        "\n",
        "def validation(model, criterion, val_loader, device):\n",
        "    model.eval() # nn.Module에서 train time과 eval time에서 수행하는 다른 작업을 수행할 수 있도록 switching 하는 함수\n",
        "    \n",
        "    model_preds = [] # 예측값\n",
        "    true_labels = [] # 실제값\n",
        "    \n",
        "    val_loss = []\n",
        "    \n",
        "    with torch.no_grad():\n",
        "        for img, text, label in tqdm(iter(val_loader)): # val_loader에서 img, text, label 가져옴\n",
        "            img = img.float().to(device)\n",
        "            text = text.to(device)\n",
        "            label = label.type(torch.LongTensor) # label type을 LongTensor로 형변환, 추가하여 에러 해결\n",
        "            label = label.to(device)\n",
        "            \n",
        "            model_pred = model(img, text)\n",
        "            \n",
        "            loss = criterion(model_pred, label) # 예측값, 실제값으로 손실함수 적용 -> loss 추출\n",
        "            \n",
        "            val_loss.append(loss.item()) # loss 출력, val_loss에 저장\n",
        "            \n",
        "            model_preds += model_pred.argmax(1).detach().cpu().numpy().tolist()\n",
        "            true_labels += label.detach().cpu().numpy().tolist()\n",
        "        \n",
        "    test_weighted_f1 = score_function(true_labels, model_preds) # 실제 라벨값들과 예측한 라벨값들에 대해 f1 점수 계산\n",
        "    return np.mean(val_loss), test_weighted_f1 # 각각 val_loss, val_score에 적용됨"
      ],
      "id": "ZDH3nVsTYqcH"
    },
    {
      "cell_type": "markdown",
      "metadata": {
        "id": "gStGzRq_YqcH"
      },
      "source": [
        "## Run!!"
      ],
      "id": "gStGzRq_YqcH"
    },
    {
      "cell_type": "code",
      "execution_count": null,
      "metadata": {
        "tags": [],
        "id": "g6x70sUqYqcH"
      },
      "outputs": [],
      "source": [
        "model = CustomModel()\n",
        "model.eval()\n",
        "optimizer = torch.optim.Adam(params = model.parameters(), lr = CFG[\"LEARNING_RATE\"])\n",
        "scheduler = None\n",
        "\n",
        "infer_model = train(model, optimizer, train_loader, val_loader, scheduler, device)"
      ],
      "id": "g6x70sUqYqcH"
    },
    {
      "cell_type": "markdown",
      "metadata": {
        "id": "bUGqdi96YqcH"
      },
      "source": [
        "## Inference"
      ],
      "id": "bUGqdi96YqcH"
    },
    {
      "cell_type": "code",
      "execution_count": null,
      "metadata": {
        "id": "i57J7xBqYqcH"
      },
      "outputs": [],
      "source": [
        "test_df = pd.read_csv('./test.csv')\n",
        "test_vectors = vectorizer.transform(test_df['overview'])\n",
        "test_vectors = test_vectors.todense()"
      ],
      "id": "i57J7xBqYqcH"
    },
    {
      "cell_type": "code",
      "execution_count": null,
      "metadata": {
        "id": "0H65ivkQYqcI"
      },
      "outputs": [],
      "source": [
        "test_dataset = CustomDataset(test_df['img_path'].values, test_vectors, None, test_transform, True)\n",
        "test_loader = DataLoader(test_dataset, batch_size=CFG['BATCH_SIZE'], shuffle=False, num_workers=0)"
      ],
      "id": "0H65ivkQYqcI"
    },
    {
      "cell_type": "code",
      "execution_count": null,
      "metadata": {
        "id": "6JL-kbgiYqcI"
      },
      "outputs": [],
      "source": [
        "def inference(model, test_loader, device):\n",
        "    model.to(device)\n",
        "    model.eval()\n",
        "    \n",
        "    model_preds = []\n",
        "    \n",
        "    with torch.no_grad():\n",
        "        for img, text in tqdm(iter(test_loader)):\n",
        "            img = img.float().to(device)\n",
        "            text = text.to(device)\n",
        "            \n",
        "            model_pred = model(img, text)\n",
        "            model_preds += model_pred.argmax(1).detach().cpu().numpy().tolist()\n",
        "    # img, text에 따른 예측값들을 model_preds 배열에 넣어 리턴\n",
        "    return model_preds"
      ],
      "id": "6JL-kbgiYqcI"
    },
    {
      "cell_type": "code",
      "execution_count": null,
      "metadata": {
        "id": "um1Bl-Z1YqcI"
      },
      "outputs": [],
      "source": [
        "preds = inference(infer_model, test_loader, device)"
      ],
      "id": "um1Bl-Z1YqcI"
    },
    {
      "cell_type": "markdown",
      "metadata": {
        "id": "LVAdfN8AYqcI"
      },
      "source": [
        "## Submission"
      ],
      "id": "LVAdfN8AYqcI"
    },
    {
      "cell_type": "code",
      "execution_count": null,
      "metadata": {
        "id": "iO9HW8TjYqcI"
      },
      "outputs": [],
      "source": [
        "submit = pd.read_csv('./sample_submission.csv')"
      ],
      "id": "iO9HW8TjYqcI"
    },
    {
      "cell_type": "code",
      "execution_count": null,
      "metadata": {
        "id": "fSvSVjEXYqcI"
      },
      "outputs": [],
      "source": [
        "submit['cat3'] = le.inverse_transform(preds)"
      ],
      "id": "fSvSVjEXYqcI"
    },
    {
      "cell_type": "code",
      "execution_count": null,
      "metadata": {
        "id": "rfLyrJ1uYqcI"
      },
      "outputs": [],
      "source": [
        "submit.to_csv('./IY_submit_v2.csv', index=False)\n",
        "# 제출 파일로 저장"
      ],
      "id": "rfLyrJ1uYqcI"
    }
  ],
  "metadata": {
    "kernelspec": {
      "display_name": "Python 3",
      "language": "python",
      "name": "python3"
    },
    "language_info": {
      "codemirror_mode": {
        "name": "ipython",
        "version": 3
      },
      "file_extension": ".py",
      "mimetype": "text/x-python",
      "name": "python",
      "nbconvert_exporter": "python",
      "pygments_lexer": "ipython3",
      "version": "3.7.6"
    },
    "colab": {
      "provenance": [],
      "collapsed_sections": [],
      "include_colab_link": true
    }
  },
  "nbformat": 4,
  "nbformat_minor": 5
}